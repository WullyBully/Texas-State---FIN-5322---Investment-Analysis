{
 "cells": [
  {
   "cell_type": "markdown",
   "metadata": {},
   "source": [
    "---\n",
    "title: Python Assignment 3\n",
    "subtitle: Efficient Frontier\n",
    "author: Brady Bulls\n",
    "date: today\n",
    "date-format: \"MMMM D YYYY\"\n",
    "format:\n",
    "  html:\n",
    "    theme: sandstone\n",
    "    toc: false\n",
    "warning: false\n",
    "---"
   ]
  },
  {
   "cell_type": "markdown",
   "metadata": {},
   "source": [
    "## Part A:"
   ]
  },
  {
   "cell_type": "markdown",
   "metadata": {},
   "source": [
    "### Step 3: Review and modify collab code"
   ]
  },
  {
   "cell_type": "code",
   "execution_count": 22,
   "metadata": {},
   "outputs": [],
   "source": [
    "import math as m\n",
    "import numpy as np\n",
    "import pandas as pd\n",
    "import scipy.stats as scs\n",
    "import statsmodels.api as sm\n",
    "\n",
    "import matplotlib.pyplot as plt\n",
    "%matplotlib inline\n",
    "\n",
    "import yfinance as yf\n",
    "\n",
    "plt.style.use('seaborn-v0_8')\n",
    "plt.rcParams['font.family'] = 'serif'\n",
    "\n",
    "import warnings; warnings.simplefilter('ignore')"
   ]
  },
  {
   "cell_type": "code",
   "execution_count": 4,
   "metadata": {},
   "outputs": [],
   "source": [
    "def portfolio_annualised_performance(weights, mean_returns, cov_matrix):\n",
    "    returns = np.sum(mean_returns*weights) * 252\n",
    "    std = np.sqrt(np.dot(weights.T, np.dot(cov_matrix, weights))) * np.sqrt(252)\n",
    "    return std, returns"
   ]
  },
  {
   "cell_type": "code",
   "execution_count": 5,
   "metadata": {},
   "outputs": [],
   "source": [
    "def random_portfolio(num_portfolios, mean_returns, cov_matrix, risk_free_rate):\n",
    "    results = np.zeros((3, num_portfolios))\n",
    "    weights_record = []\n",
    "    for i in range(num_portfolios):\n",
    "        weights = np.random.random(len(stocks))\n",
    "        weights /= np.sum(weights)\n",
    "        weights_record.append(weights)\n",
    "        portfolio_std, portfolio_return = portfolio_annualised_performance(weights, mean_returns, cov_matrix)\n",
    "        results[0, i] = portfolio_std_dev\n",
    "        results[1, i] = portfolio_return\n",
    "        results[2, i] = (portfolio_return - risk_free_rate) / portfolio_std\n",
    "    return results, weights_record"
   ]
  },
  {
   "cell_type": "markdown",
   "metadata": {},
   "source": [
    "#### Collecting S&P 500 tickers from the web"
   ]
  },
  {
   "cell_type": "code",
   "execution_count": 6,
   "metadata": {},
   "outputs": [],
   "source": [
    "sp_url = 'https://en.wikipedia.org/wiki/List_of_S%26P_500_companies'\n",
    "sp500_constituents = pd.read_html(sp_url, header=0)[0]"
   ]
  },
  {
   "cell_type": "code",
   "execution_count": 7,
   "metadata": {},
   "outputs": [],
   "source": [
    "stocks_sp500 = sp500_constituents['Symbol']"
   ]
  },
  {
   "cell_type": "code",
   "execution_count": 8,
   "metadata": {},
   "outputs": [],
   "source": [
    "# Transpose the oclumn vector to a row vector and covert pandas into a list.\n",
    "tickers = stocks_sp500.T\n",
    "tickers = tickers.values.tolist()\n",
    "\n",
    "tickers.remove('BF.B')\n",
    "tickers.remove('BRK.B')"
   ]
  },
  {
   "cell_type": "code",
   "execution_count": 9,
   "metadata": {},
   "outputs": [
    {
     "data": {
      "text/plain": [
       "list"
      ]
     },
     "execution_count": 9,
     "metadata": {},
     "output_type": "execute_result"
    }
   ],
   "source": [
    "type(tickers)"
   ]
  },
  {
   "cell_type": "code",
   "execution_count": 10,
   "metadata": {},
   "outputs": [
    {
     "data": {
      "text/plain": [
       "501"
      ]
     },
     "execution_count": 10,
     "metadata": {},
     "output_type": "execute_result"
    }
   ],
   "source": [
    "len(tickers)"
   ]
  },
  {
   "cell_type": "code",
   "execution_count": 11,
   "metadata": {},
   "outputs": [],
   "source": [
    "import scipy.optimize as sco"
   ]
  },
  {
   "cell_type": "code",
   "execution_count": 12,
   "metadata": {},
   "outputs": [],
   "source": [
    "def neg_sharpe_ratio(weights, mean_returns, cov_matrix, risk_free_rate):\n",
    "    p_var, p_ret = portfolio_annualised_performance(weights, mean_returns, cov_matrix)\n",
    "    return -(p_ret - risk_free_rate) / p_var\n",
    "\n",
    "def max_sharpe_ratio(mean_returns, cov_matrix, risk_free_rate):\n",
    "    num_assets = len(mean_returns)\n",
    "    args = (mean_returns, cov_matrix, risk_free_rate)\n",
    "    constraints = ({'type': 'eq', 'fun': lambda x: np.sum(x) - 1})\n",
    "    bound = (0.0, 1.0)\n",
    "    bounds = tuple(bound for asset in range(num_assets))\n",
    "    result = sco.minimize(neg_sharpe_ratio, num_assets*[1./num_assets,], args=args,\n",
    "                      method='SLSQP', bounds=bounds, constraints=constraints)\n",
    "    return result"
   ]
  },
  {
   "cell_type": "code",
   "execution_count": 13,
   "metadata": {},
   "outputs": [],
   "source": [
    "def portfolio_volatility(weights, mean_returns, cov_matrix):\n",
    "    return portfolio_annualised_performance(weights, mean_returns, cov_matrix)[0]\n",
    "\n",
    "def min_variance(mean_returns, cov_matrix):\n",
    "    num_assets = len(mean_returns)\n",
    "    args = (mean_returns, cov_matrix)\n",
    "    constraints = ({'type': 'eq', 'fun': lambda x: np.sum(x) - 1})\n",
    "    bound = (0.0, 1.0)\n",
    "    bounds = tuple(bound for asset in range(num_assets))\n",
    "    result = sco.minimize(portfolio_volatility, num_assets*[1./num_assets,], args=args,\n",
    "                          method='SLSQP', bounds=bounds, constraints=constraints)\n",
    "    return result"
   ]
  },
  {
   "cell_type": "code",
   "execution_count": 14,
   "metadata": {},
   "outputs": [],
   "source": [
    "def efficient_return(mean_returns, cov_matrix, target):\n",
    "    num_assets = len(mean_returns)\n",
    "    args = (mean_returns, cov_matrix)\n",
    "\n",
    "    def portfolio_return(weights):\n",
    "        return portfolio_annualised_performance(weights, mean_returns, cov_matrix)[1]\n",
    "    \n",
    "    constraints = ({'type': 'eq', 'fun': lambda x: portfolio_return(x) - target},\n",
    "                   {'type': 'eq', 'fun': lambda x: np.sum(x) - 1})\n",
    "    bounds = tuple((0.0, 1.0) for asset in range(num_assets))\n",
    "    result = sco.minimize(portfolio_volatility, num_assets*[1./num_assets,], args=args,\n",
    "                          method='SLSQP', bounds=bounds, constraints=constraints)\n",
    "    return result\n",
    "\n",
    "def efficient_frontier(mean_returns, cov_matrix, returns_range):\n",
    "    efficients = []\n",
    "    for ret in returns_range:\n",
    "        efficients.append(efficient_return(mean_returns, cov_matrix, ret))\n",
    "    return efficients"
   ]
  },
  {
   "cell_type": "code",
   "execution_count": 15,
   "metadata": {},
   "outputs": [],
   "source": [
    "def display_ef_with_selected2(mean_returns, cov_matrix, risk_free_rate):\n",
    "    max_sharpe = max_sharpe_ratio(mean_returns, cov_matrix, risk_free_rate)\n",
    "    sdp, rp = portfolio_annualised_performance(max_sharpe['x'], mean_returns, cov_matrix)\n",
    "    max_sharpe_allocation = pd.DataFrame(max_sharpe.x,index=data.columns,columns=['allocation'])\n",
    "    max_sharpe_allocation.allocation = [round(i*100,2)for i in max_sharpe_allocation.allocation]\n",
    "    max_sharpe_allocation = max_sharpe_allocation.T\n",
    "    max_sharpe_allocation\n",
    "\n",
    "    min_vol = min_variance(mean_returns, cov_matrix)\n",
    "    sdp_min, rp_min = portfolio_annualised_performance(min_vol['x'], mean_returns, cov_matrix)\n",
    "    min_vol_allocation = pd.DataFrame(min_vol.x,index=data.columns,columns=['allocation'])\n",
    "    min_vol_allocation.allocation = [round(i*100,2)for i in min_vol_allocation.allocation]\n",
    "    min_vol_allocation = min_vol_allocation.T\n",
    "\n",
    "    an_vol = np.std(returns) * np.sqrt(252)\n",
    "    an_rt = mean_returns * 252\n",
    "\n",
    "    max_sharpe2 = (rp - risk_free_rate)/ sdp\n",
    "\n",
    "    \n",
    "    print (\"-\"*80)\n",
    "    print (\"Maximum Sharpe Ratio Portfolio Allocation\\n\")\n",
    "    print (\"Annualized Return:\", round(rp,2))\n",
    "    print (\"Annualized Volatility:\", round(sdp,2))\n",
    "    print (\"Sharpe ratio =\", max_sharpe)\n",
    "    print (\"Sharpe ratio2 =\", round(max_sharpe2, 4))\n",
    "    print (\"\\n\")\n",
    "    print (max_sharpe_allocation)\n",
    "    print (\"-\"*80)\n",
    "    print (\"Minimum Volatility Portfolio Allocation\\n\")\n",
    "    print (\"Annualized Return:\", round(rp_min,2))\n",
    "    print (\"Annualized Volatility:\", round(sdp_min,2))\n",
    "    print (\"\\n\")\n",
    "    print (min_vol_allocation)\n",
    "    print (\"-\"*80)\n",
    "    print (\"Individual Stock Returns and Volatility\\n\")\n",
    "    for i, txt in enumerate(data.columns):\n",
    "        print (txt,\":\",\"annualized return\",round(an_rt[i],2),\", annualized volatility:\",round(an_vol[i],2))\n",
    "    print (\"-\"*80)\n",
    "\n",
    "    fig, ax = plt.subplots(figsize=(10, 7))\n",
    "    ax.scatter(an_vol,an_rt,marker='o',s=200)\n",
    "\n",
    "    for i, txt in enumerate(data.columns):\n",
    "        ax.annotate(txt, (an_vol[i],an_rt[i]), xytext=(10,0), textcoords='offset points')\n",
    "    ax.scatter(sdp,rp,marker='*',color='r',s=500, label='Maximum Sharpe ratio')\n",
    "    ax.scatter(sdp_min,rp_min,marker='*',color='g',s=500, label='Minimum volatility')\n",
    "\n",
    "    target = np.linspace(rp_min, 0.34, 50)\n",
    "    efficient_portfolios = efficient_frontier(mean_returns, cov_matrix, target)\n",
    "    ax.plot([p['fun'] for p in efficient_portfolios], target, linestyle='-.', color='black', label='efficient frontier')\n",
    "    ax.set_title('Portfolio Optimization with Individual Stocks')\n",
    "    ax.set_xlabel('annualized volatility')\n",
    "    ax.set_ylabel('annualized returns')\n",
    "    ax.legend(labelspacing=0.8)\n",
    "    \n",
    "    return max_sharpe_allocation, max_sharpe2"
   ]
  },
  {
   "cell_type": "code",
   "execution_count": 14,
   "metadata": {},
   "outputs": [
    {
     "name": "stderr",
     "output_type": "stream",
     "text": [
      "[*********************100%%**********************]  10 of 10 completed\n"
     ]
    }
   ],
   "source": [
    "import random\n",
    "stocks = random.sample(tickers, 10)\n",
    "stocks\n",
    "\n",
    "data = pd.DataFrame()\n",
    "data = yf.download(stocks, start=\"2017-01-01\", end=\"2023-12-31\", progress=True)['Adj Close'].dropna()\n",
    "\n",
    "\n",
    "returns = data.pct_change()\n",
    "mean_returns = returns.mean()\n",
    "cov_matrix = returns.cov()\n",
    "num_portfolios= 5000\n",
    "risk_free_rate = 0.0378"
   ]
  },
  {
   "cell_type": "code",
   "execution_count": 37,
   "metadata": {},
   "outputs": [
    {
     "name": "stdout",
     "output_type": "stream",
     "text": [
      "--------------------------------------------------------------------------------\n",
      "Maximum Sharpe Ratio Portfolio Allocation\n",
      "\n",
      "Annualized Return: 0.29\n",
      "Annualized Volatility: 0.3\n",
      "Sharpe ratio =  message: Optimization terminated successfully\n",
      " success: True\n",
      "  status: 0\n",
      "     fun: -0.8437966417302262\n",
      "       x: [ 2.668e-01  1.807e-02  4.852e-17  0.000e+00  4.975e-01\n",
      "            4.494e-02  0.000e+00  7.752e-18  1.727e-01  3.944e-17]\n",
      "     nit: 8\n",
      "     jac: [-1.245e-01 -1.243e-01  1.290e-01 -1.329e-02 -1.249e-01\n",
      "           -1.235e-01 -7.518e-02 -1.184e-01 -1.242e-01  1.635e-01]\n",
      "    nfev: 89\n",
      "    njev: 8\n",
      "Sharpe ratio2 = 0.8438\n",
      "\n",
      "\n",
      "Ticker        ACN  ALGN  AVB  CCI   LRCX  MKTX  PSX  SYK    TJX  ZION\n",
      "allocation  26.68  1.81  0.0  0.0  49.75  4.49  0.0  0.0  17.27   0.0\n",
      "--------------------------------------------------------------------------------\n",
      "Minimum Volatility Portfolio Allocation\n",
      "\n",
      "Annualized Return: 0.14\n",
      "Annualized Volatility: 0.2\n",
      "\n",
      "\n",
      "Ticker        ACN  ALGN    AVB    CCI  LRCX   MKTX   PSX  SYK   TJX  ZION\n",
      "allocation  16.26   0.0  16.61  23.22   0.0  14.73  7.45  5.4  16.0  0.33\n",
      "--------------------------------------------------------------------------------\n",
      "Individual Stock Returns and Volatility\n",
      "\n",
      "ACN : annualized return 0.2 , annualized volatility: 0.26\n",
      "ALGN : annualized return 0.28 , annualized volatility: 0.52\n",
      "AVB : annualized return 0.07 , annualized volatility: 0.26\n",
      "CCI : annualized return 0.1 , annualized volatility: 0.27\n",
      "LRCX : annualized return 0.39 , annualized volatility: 0.44\n",
      "MKTX : annualized return 0.16 , annualized volatility: 0.34\n",
      "PSX : annualized return 0.16 , annualized volatility: 0.38\n",
      "SYK : annualized return 0.18 , annualized volatility: 0.28\n",
      "TJX : annualized return 0.18 , annualized volatility: 0.29\n",
      "ZION : annualized return 0.1 , annualized volatility: 0.42\n",
      "--------------------------------------------------------------------------------\n",
      "The Highest SR=0.8438\n",
      "\n",
      "\n",
      "\n",
      "\n",
      "CPU times: total: 4min 17s\n",
      "Wall time: 7min 6s\n"
     ]
    },
    {
     "data": {
      "text/html": [
       "<div>\n",
       "<style scoped>\n",
       "    .dataframe tbody tr th:only-of-type {\n",
       "        vertical-align: middle;\n",
       "    }\n",
       "\n",
       "    .dataframe tbody tr th {\n",
       "        vertical-align: top;\n",
       "    }\n",
       "\n",
       "    .dataframe thead th {\n",
       "        text-align: right;\n",
       "    }\n",
       "</style>\n",
       "<table border=\"1\" class=\"dataframe\">\n",
       "  <thead>\n",
       "    <tr style=\"text-align: right;\">\n",
       "      <th>Ticker</th>\n",
       "      <th>ACN</th>\n",
       "      <th>ALGN</th>\n",
       "      <th>AVB</th>\n",
       "      <th>CCI</th>\n",
       "      <th>LRCX</th>\n",
       "      <th>MKTX</th>\n",
       "      <th>PSX</th>\n",
       "      <th>SYK</th>\n",
       "      <th>TJX</th>\n",
       "      <th>ZION</th>\n",
       "    </tr>\n",
       "  </thead>\n",
       "  <tbody>\n",
       "    <tr>\n",
       "      <th>allocation</th>\n",
       "      <td>26.68</td>\n",
       "      <td>1.81</td>\n",
       "      <td>0.0</td>\n",
       "      <td>0.0</td>\n",
       "      <td>49.75</td>\n",
       "      <td>4.49</td>\n",
       "      <td>0.0</td>\n",
       "      <td>0.0</td>\n",
       "      <td>17.27</td>\n",
       "      <td>0.0</td>\n",
       "    </tr>\n",
       "  </tbody>\n",
       "</table>\n",
       "</div>"
      ],
      "text/plain": [
       "Ticker        ACN  ALGN  AVB  CCI   LRCX  MKTX  PSX  SYK    TJX  ZION\n",
       "allocation  26.68  1.81  0.0  0.0  49.75  4.49  0.0  0.0  17.27   0.0"
      ]
     },
     "execution_count": 37,
     "metadata": {},
     "output_type": "execute_result"
    },
    {
     "data": {
      "image/png": "[encoded data removed]",
      "text/plain": [
       "<Figure size 1000x700 with 1 Axes>"
      ]
     },
     "metadata": {},
     "output_type": "display_data"
    }
   ],
   "source": [
    "%%time\n",
    "\n",
    "looping = 1000\n",
    "\n",
    "max_iterated_SR = 0\n",
    "max_allocation = pd.DataFrame()\n",
    "\n",
    "for i in range(looping):\n",
    "    stocks = random.sample(tickers, 10)\n",
    "    data = pd.DataFrame()\n",
    "    # I passed the list to yf.download instead of a for loop to try and reduce\n",
    "    # the number of yahoo calls.\n",
    "    data = yf.download(stocks, start=\"2017-01-01\", end=\"2023-12-31\", progress=False)['Adj Close'].dropna()\n",
    "\n",
    "returns = data.pct_change()\n",
    "mean_returns = returns.mean()\n",
    "cov_matrix = returns.cov()\n",
    "num_portfolios = 5000\n",
    "risk_free_rate = 0.0378\n",
    "\n",
    "max2, max_SR = display_ef_with_selected2(mean_returns, cov_matrix, risk_free_rate)\n",
    "if max_SR >= max_iterated_SR:\n",
    "    max_iterated_SR = max_SR\n",
    "    max_allocation = max2\n",
    "\n",
    "print(f'The Highest SR={max_iterated_SR:.4f}')\n",
    "print('\\n')\n",
    "print('\\n')\n",
    "\n",
    "max_allocation"
   ]
  },
  {
   "cell_type": "markdown",
   "metadata": {},
   "source": [
    "{{< pagebreak >}}"
   ]
  },
  {
   "cell_type": "markdown",
   "metadata": {},
   "source": [
    "### Step 4: The Hilpisch Code"
   ]
  },
  {
   "cell_type": "code",
   "execution_count": 5,
   "metadata": {},
   "outputs": [],
   "source": [
    "import math as m\n",
    "import numpy as np\n",
    "import pandas as pd\n",
    "import scipy.stats as scs\n",
    "import statsmodels.api as sm\n",
    "\n",
    "import matplotlib.pyplot as plt\n",
    "\n",
    "import yfinance as yf\n",
    "\n",
    "plt.style.use('seaborn-v0_8')\n",
    "plt.rcParams['font.family'] = 'serif'\n",
    "%matplotlib inline\n",
    "\n",
    "import warnings; warnings.simplefilter('ignore')"
   ]
  },
  {
   "cell_type": "code",
   "execution_count": 6,
   "metadata": {},
   "outputs": [],
   "source": [
    "def normality_test(arr):\n",
    "    '''Tests or normality distribution of given data set.\n",
    "    \n",
    "    Prametters\n",
    "    ==========\n",
    "    array: ndarray\n",
    "        object to generate statistics on\n",
    "    '''\n",
    "    print('Skew of data set %14.3f' % scs.skew(arr))\n",
    "    print('Skew test p-value %14.3f' % scs.skewtest(arr)[1])\n",
    "    print('Kurt of data set %14.3f' % scs.kurtosis(arr))\n",
    "    print('Kurt test p-values %14.3f' % scs.kurtosistest(arr)[1])\n",
    "    print('Norm test p-values %14.3f' % scs.normaltest(arr)[1])"
   ]
  },
  {
   "cell_type": "markdown",
   "metadata": {},
   "source": [
    "{{< pagebreak >}}"
   ]
  },
  {
   "cell_type": "code",
   "execution_count": 7,
   "metadata": {},
   "outputs": [],
   "source": [
    "def print_statistcis(array):\n",
    "    ''' prints selected statistics.\n",
    "    \n",
    "    Paramaters\n",
    "    ==========\n",
    "    array: ndarray\n",
    "        object to generate statistics on\n",
    "    '''\n",
    "    sta = scs.describe(array)\n",
    "    print('%14s %15s' % ('statistic', 'value'))\n",
    "    print(30 * '-')\n",
    "    print('%14s %15.5f' % ('size', sta[0]))\n",
    "    print('%14s %15.5f' % ('max', sta[1][1]))\n",
    "    print('%14s %15.5f' % ('mean', sta[2]))\n",
    "    print('%14s %15.5f' % ('annual mean', sta[2]*252))\n",
    "    print('%14s %15.5f' % ('std', np.sqrt(sta[3])))\n",
    "    print('%14s %15.5f' % ('annual std', np.sqrt(sta[3]*np.sqrt(252))))\n",
    "    print('%14s %15.5f' % ('skew', sta[4]))\n",
    "    print('%14s %15.5f' % ('kurtosis', sta[5]))"
   ]
  },
  {
   "cell_type": "code",
   "execution_count": 8,
   "metadata": {},
   "outputs": [
    {
     "name": "stderr",
     "output_type": "stream",
     "text": [
      "[*********************100%%**********************]  4 of 4 completed\n"
     ]
    },
    {
     "data": {
      "text/plain": [
       "Ticker\n",
       "AAPL    False\n",
       "GLD     False\n",
       "MSFT    False\n",
       "SPY     False\n",
       "dtype: bool"
      ]
     },
     "execution_count": 8,
     "metadata": {},
     "output_type": "execute_result"
    }
   ],
   "source": [
    "tickers = ['SPY', 'GLD', 'AAPL', 'MSFT']\n",
    "mydata = pd.DataFrame()\n",
    "mydata = yf.download(tickers, start='2010-01-01', end='2020-06-29')['Adj Close']\n",
    "mydata.isna().any()"
   ]
  },
  {
   "cell_type": "markdown",
   "metadata": {},
   "source": [
    "{{< pagebreak >}}"
   ]
  },
  {
   "cell_type": "code",
   "execution_count": 9,
   "metadata": {},
   "outputs": [
    {
     "name": "stdout",
     "output_type": "stream",
     "text": [
      "SPY\n",
      "     statistic           value\n",
      "------------------------------\n",
      "          size      2638.00000\n",
      "           max         0.09060\n",
      "          mean         0.00051\n",
      "   annual mean         0.12814\n",
      "           std         0.01089\n",
      "    annual std         0.04340\n",
      "          skew        -0.60333\n",
      "      kurtosis        13.90910\n",
      "------------------------------\n",
      "GLD\n",
      "     statistic           value\n",
      "------------------------------\n",
      "          size      2638.00000\n",
      "           max         0.04904\n",
      "          mean         0.00021\n",
      "   annual mean         0.05230\n",
      "           std         0.00995\n",
      "    annual std         0.03963\n",
      "          skew        -0.41236\n",
      "      kurtosis         5.14647\n",
      "------------------------------\n",
      "AAPL\n",
      "     statistic           value\n",
      "------------------------------\n",
      "          size      2638.00000\n",
      "           max         0.11981\n",
      "          mean         0.00113\n",
      "   annual mean         0.28601\n",
      "           std         0.01741\n",
      "    annual std         0.06936\n",
      "          skew        -0.14358\n",
      "      kurtosis         6.35928\n",
      "------------------------------\n",
      "MSFT\n",
      "     statistic           value\n",
      "------------------------------\n",
      "          size      2638.00000\n",
      "           max         0.14217\n",
      "          mean         0.00092\n",
      "   annual mean         0.23152\n",
      "           std         0.01583\n",
      "    annual std         0.06307\n",
      "          skew         0.07484\n",
      "      kurtosis        10.70971\n",
      "------------------------------\n"
     ]
    }
   ],
   "source": [
    "for t in tickers:\n",
    "    print(t)\n",
    "    print_statistcis(mydata[t].pct_change().dropna())\n",
    "\n",
    "    print(30 * '-')"
   ]
  },
  {
   "cell_type": "markdown",
   "metadata": {},
   "source": [
    "{{< pagebreak >}}"
   ]
  },
  {
   "cell_type": "code",
   "execution_count": 10,
   "metadata": {},
   "outputs": [
    {
     "data": {
      "text/html": [
       "<div>\n",
       "<style scoped>\n",
       "    .dataframe tbody tr th:only-of-type {\n",
       "        vertical-align: middle;\n",
       "    }\n",
       "\n",
       "    .dataframe tbody tr th {\n",
       "        vertical-align: top;\n",
       "    }\n",
       "\n",
       "    .dataframe thead th {\n",
       "        text-align: right;\n",
       "    }\n",
       "</style>\n",
       "<table border=\"1\" class=\"dataframe\">\n",
       "  <thead>\n",
       "    <tr style=\"text-align: right;\">\n",
       "      <th>Ticker</th>\n",
       "      <th>AAPL</th>\n",
       "      <th>GLD</th>\n",
       "      <th>MSFT</th>\n",
       "      <th>SPY</th>\n",
       "    </tr>\n",
       "    <tr>\n",
       "      <th>Date</th>\n",
       "      <th></th>\n",
       "      <th></th>\n",
       "      <th></th>\n",
       "      <th></th>\n",
       "    </tr>\n",
       "  </thead>\n",
       "  <tbody>\n",
       "    <tr>\n",
       "      <th>2010-01-04</th>\n",
       "      <td>6.470741</td>\n",
       "      <td>109.800003</td>\n",
       "      <td>23.431591</td>\n",
       "      <td>87.129936</td>\n",
       "    </tr>\n",
       "    <tr>\n",
       "      <th>2010-01-05</th>\n",
       "      <td>6.481928</td>\n",
       "      <td>109.699997</td>\n",
       "      <td>23.439150</td>\n",
       "      <td>87.360596</td>\n",
       "    </tr>\n",
       "    <tr>\n",
       "      <th>2010-01-06</th>\n",
       "      <td>6.378826</td>\n",
       "      <td>111.510002</td>\n",
       "      <td>23.295313</td>\n",
       "      <td>87.422081</td>\n",
       "    </tr>\n",
       "    <tr>\n",
       "      <th>2010-01-07</th>\n",
       "      <td>6.367033</td>\n",
       "      <td>110.820000</td>\n",
       "      <td>23.053051</td>\n",
       "      <td>87.791115</td>\n",
       "    </tr>\n",
       "    <tr>\n",
       "      <th>2010-01-08</th>\n",
       "      <td>6.409361</td>\n",
       "      <td>111.370003</td>\n",
       "      <td>23.212042</td>\n",
       "      <td>88.083260</td>\n",
       "    </tr>\n",
       "    <tr>\n",
       "      <th>...</th>\n",
       "      <td>...</td>\n",
       "      <td>...</td>\n",
       "      <td>...</td>\n",
       "      <td>...</td>\n",
       "    </tr>\n",
       "    <tr>\n",
       "      <th>2020-06-22</th>\n",
       "      <td>87.738304</td>\n",
       "      <td>165.089996</td>\n",
       "      <td>193.985809</td>\n",
       "      <td>294.683685</td>\n",
       "    </tr>\n",
       "    <tr>\n",
       "      <th>2020-06-23</th>\n",
       "      <td>89.611069</td>\n",
       "      <td>166.479996</td>\n",
       "      <td>195.281815</td>\n",
       "      <td>296.040314</td>\n",
       "    </tr>\n",
       "    <tr>\n",
       "      <th>2020-06-24</th>\n",
       "      <td>88.029274</td>\n",
       "      <td>165.899994</td>\n",
       "      <td>191.345444</td>\n",
       "      <td>288.488739</td>\n",
       "    </tr>\n",
       "    <tr>\n",
       "      <th>2020-06-25</th>\n",
       "      <td>89.197899</td>\n",
       "      <td>165.800003</td>\n",
       "      <td>193.763351</td>\n",
       "      <td>291.581482</td>\n",
       "    </tr>\n",
       "    <tr>\n",
       "      <th>2020-06-26</th>\n",
       "      <td>86.457222</td>\n",
       "      <td>166.539993</td>\n",
       "      <td>189.884979</td>\n",
       "      <td>284.656006</td>\n",
       "    </tr>\n",
       "  </tbody>\n",
       "</table>\n",
       "<p>2639 rows × 4 columns</p>\n",
       "</div>"
      ],
      "text/plain": [
       "Ticker           AAPL         GLD        MSFT         SPY\n",
       "Date                                                     \n",
       "2010-01-04   6.470741  109.800003   23.431591   87.129936\n",
       "2010-01-05   6.481928  109.699997   23.439150   87.360596\n",
       "2010-01-06   6.378826  111.510002   23.295313   87.422081\n",
       "2010-01-07   6.367033  110.820000   23.053051   87.791115\n",
       "2010-01-08   6.409361  111.370003   23.212042   88.083260\n",
       "...               ...         ...         ...         ...\n",
       "2020-06-22  87.738304  165.089996  193.985809  294.683685\n",
       "2020-06-23  89.611069  166.479996  195.281815  296.040314\n",
       "2020-06-24  88.029274  165.899994  191.345444  288.488739\n",
       "2020-06-25  89.197899  165.800003  193.763351  291.581482\n",
       "2020-06-26  86.457222  166.539993  189.884979  284.656006\n",
       "\n",
       "[2639 rows x 4 columns]"
      ]
     },
     "execution_count": 10,
     "metadata": {},
     "output_type": "execute_result"
    }
   ],
   "source": [
    "data = mydata\n",
    "data = data.dropna()\n",
    "data"
   ]
  },
  {
   "cell_type": "code",
   "execution_count": 11,
   "metadata": {},
   "outputs": [
    {
     "data": {
      "text/plain": [
       "<Axes: xlabel='Date'>"
      ]
     },
     "execution_count": 11,
     "metadata": {},
     "output_type": "execute_result"
    },
    {
     "data": {
      "image/png": "[encoded data removed]",
      "text/plain": [
       "<Figure size 1000x600 with 1 Axes>"
      ]
     },
     "metadata": {},
     "output_type": "display_data"
    }
   ],
   "source": [
    "(data / data.iloc[0] * 100).plot(figsize=(10, 6))\n",
    "# plt.savefig()"
   ]
  },
  {
   "cell_type": "markdown",
   "metadata": {},
   "source": [
    "{{< pagebreak >}}"
   ]
  },
  {
   "cell_type": "code",
   "execution_count": 12,
   "metadata": {},
   "outputs": [
    {
     "data": {
      "text/html": [
       "<div>\n",
       "<style scoped>\n",
       "    .dataframe tbody tr th:only-of-type {\n",
       "        vertical-align: middle;\n",
       "    }\n",
       "\n",
       "    .dataframe tbody tr th {\n",
       "        vertical-align: top;\n",
       "    }\n",
       "\n",
       "    .dataframe thead th {\n",
       "        text-align: right;\n",
       "    }\n",
       "</style>\n",
       "<table border=\"1\" class=\"dataframe\">\n",
       "  <thead>\n",
       "    <tr style=\"text-align: right;\">\n",
       "      <th>Ticker</th>\n",
       "      <th>AAPL</th>\n",
       "      <th>GLD</th>\n",
       "      <th>MSFT</th>\n",
       "      <th>SPY</th>\n",
       "    </tr>\n",
       "    <tr>\n",
       "      <th>Date</th>\n",
       "      <th></th>\n",
       "      <th></th>\n",
       "      <th></th>\n",
       "      <th></th>\n",
       "    </tr>\n",
       "  </thead>\n",
       "  <tbody>\n",
       "    <tr>\n",
       "      <th>2010-01-05</th>\n",
       "      <td>0.001727</td>\n",
       "      <td>-0.000911</td>\n",
       "      <td>0.000323</td>\n",
       "      <td>0.002644</td>\n",
       "    </tr>\n",
       "    <tr>\n",
       "      <th>2010-01-06</th>\n",
       "      <td>-0.016034</td>\n",
       "      <td>0.016365</td>\n",
       "      <td>-0.006156</td>\n",
       "      <td>0.000704</td>\n",
       "    </tr>\n",
       "    <tr>\n",
       "      <th>2010-01-07</th>\n",
       "      <td>-0.001851</td>\n",
       "      <td>-0.006207</td>\n",
       "      <td>-0.010454</td>\n",
       "      <td>0.004212</td>\n",
       "    </tr>\n",
       "    <tr>\n",
       "      <th>2010-01-08</th>\n",
       "      <td>0.006626</td>\n",
       "      <td>0.004951</td>\n",
       "      <td>0.006873</td>\n",
       "      <td>0.003322</td>\n",
       "    </tr>\n",
       "    <tr>\n",
       "      <th>2010-01-11</th>\n",
       "      <td>-0.008861</td>\n",
       "      <td>0.013201</td>\n",
       "      <td>-0.012802</td>\n",
       "      <td>0.001396</td>\n",
       "    </tr>\n",
       "  </tbody>\n",
       "</table>\n",
       "</div>"
      ],
      "text/plain": [
       "Ticker          AAPL       GLD      MSFT       SPY\n",
       "Date                                              \n",
       "2010-01-05  0.001727 -0.000911  0.000323  0.002644\n",
       "2010-01-06 -0.016034  0.016365 -0.006156  0.000704\n",
       "2010-01-07 -0.001851 -0.006207 -0.010454  0.004212\n",
       "2010-01-08  0.006626  0.004951  0.006873  0.003322\n",
       "2010-01-11 -0.008861  0.013201 -0.012802  0.001396"
      ]
     },
     "execution_count": 12,
     "metadata": {},
     "output_type": "execute_result"
    }
   ],
   "source": [
    "log_returns = np.log(data / data.shift(1)).dropna()\n",
    "log_returns.head()"
   ]
  },
  {
   "cell_type": "code",
   "execution_count": 13,
   "metadata": {},
   "outputs": [
    {
     "data": {
      "text/plain": [
       "array([[<Axes: title={'center': 'AAPL'}>,\n",
       "        <Axes: title={'center': 'GLD'}>],\n",
       "       [<Axes: title={'center': 'MSFT'}>,\n",
       "        <Axes: title={'center': 'SPY'}>]], dtype=object)"
      ]
     },
     "execution_count": 13,
     "metadata": {},
     "output_type": "execute_result"
    },
    {
     "data": {
      "image/png": "[encoded data removed]",
      "text/plain": [
       "<Figure size 1000x800 with 4 Axes>"
      ]
     },
     "metadata": {},
     "output_type": "display_data"
    }
   ],
   "source": [
    "log_returns.hist(bins=50, figsize=(10, 8))\n",
    "# plt.savefig()"
   ]
  },
  {
   "cell_type": "markdown",
   "metadata": {},
   "source": [
    "{{< pagebreak >}}"
   ]
  },
  {
   "cell_type": "code",
   "execution_count": 14,
   "metadata": {},
   "outputs": [
    {
     "name": "stdout",
     "output_type": "stream",
     "text": [
      "\n",
      "Results for symbol SPY\n",
      "------------------------------\n",
      "     statistic           value\n",
      "------------------------------\n",
      "          size      2638.00000\n",
      "           max         0.08673\n",
      "          mean         0.00045\n",
      "   annual mean         0.11309\n",
      "           std         0.01093\n",
      "    annual std         0.04356\n",
      "          skew        -0.86337\n",
      "      kurtosis        14.87487\n",
      "\n",
      "Results for symbol GLD\n",
      "------------------------------\n",
      "     statistic           value\n",
      "------------------------------\n",
      "          size      2638.00000\n",
      "           max         0.04787\n",
      "          mean         0.00016\n",
      "   annual mean         0.03979\n",
      "           std         0.00997\n",
      "    annual std         0.03972\n",
      "          skew        -0.51985\n",
      "      kurtosis         5.62429\n",
      "\n",
      "Results for symbol AAPL\n",
      "------------------------------\n",
      "     statistic           value\n",
      "------------------------------\n",
      "          size      2638.00000\n",
      "           max         0.11316\n",
      "          mean         0.00098\n",
      "   annual mean         0.24764\n",
      "           std         0.01743\n",
      "    annual std         0.06946\n",
      "          skew        -0.36614\n",
      "      kurtosis         6.80358\n",
      "\n",
      "Results for symbol MSFT\n",
      "------------------------------\n",
      "     statistic           value\n",
      "------------------------------\n",
      "          size      2638.00000\n",
      "           max         0.13293\n",
      "          mean         0.00079\n",
      "   annual mean         0.19987\n",
      "           std         0.01583\n",
      "    annual std         0.06308\n",
      "          skew        -0.23301\n",
      "      kurtosis        11.28599\n"
     ]
    }
   ],
   "source": [
    "for sym in tickers:\n",
    "    print('\\nResults for symbol {}'.format(sym))\n",
    "    print(30 * '-')\n",
    "    log_data = np.array(log_returns[sym].dropna())\n",
    "    print_statistcis(log_data)"
   ]
  },
  {
   "cell_type": "markdown",
   "metadata": {},
   "source": [
    "{{< pagebreak >}}"
   ]
  },
  {
   "cell_type": "code",
   "execution_count": 15,
   "metadata": {},
   "outputs": [
    {
     "data": {
      "text/plain": [
       "Text(0, 0.5, 'sample quantiles')"
      ]
     },
     "execution_count": 15,
     "metadata": {},
     "output_type": "execute_result"
    },
    {
     "data": {
      "image/png": "[encoded data removed]",
      "text/plain": [
       "<Figure size 800x550 with 1 Axes>"
      ]
     },
     "metadata": {},
     "output_type": "display_data"
    }
   ],
   "source": [
    "sm.qqplot(log_returns['SPY'].dropna(), line='s')\n",
    "plt.title('SPY')\n",
    "plt.xlabel('theoretical quantiles')\n",
    "plt.ylabel('sample quantiles')\n",
    "# plt.savefig()"
   ]
  },
  {
   "cell_type": "markdown",
   "metadata": {},
   "source": [
    "{{< pagebreak >}}"
   ]
  },
  {
   "cell_type": "markdown",
   "metadata": {},
   "source": [
    "#### Rejecting Normality"
   ]
  },
  {
   "cell_type": "code",
   "execution_count": 16,
   "metadata": {},
   "outputs": [
    {
     "name": "stdout",
     "output_type": "stream",
     "text": [
      "\n",
      "Results for symbol SPY\n",
      "--------------------------------\n",
      "Skew of data set         -0.863\n",
      "Skew test p-value          0.000\n",
      "Kurt of data set         14.875\n",
      "Kurt test p-values          0.000\n",
      "Norm test p-values          0.000\n",
      "\n",
      "Results for symbol GLD\n",
      "--------------------------------\n",
      "Skew of data set         -0.520\n",
      "Skew test p-value          0.000\n",
      "Kurt of data set          5.624\n",
      "Kurt test p-values          0.000\n",
      "Norm test p-values          0.000\n",
      "\n",
      "Results for symbol AAPL\n",
      "--------------------------------\n",
      "Skew of data set         -0.366\n",
      "Skew test p-value          0.000\n",
      "Kurt of data set          6.804\n",
      "Kurt test p-values          0.000\n",
      "Norm test p-values          0.000\n",
      "\n",
      "Results for symbol MSFT\n",
      "--------------------------------\n",
      "Skew of data set         -0.233\n",
      "Skew test p-value          0.000\n",
      "Kurt of data set         11.286\n",
      "Kurt test p-values          0.000\n",
      "Norm test p-values          0.000\n"
     ]
    }
   ],
   "source": [
    "for sym in tickers:\n",
    "    print('\\nResults for symbol {}'.format(sym))\n",
    "    print(32 * '-')\n",
    "    log_data = np.array(log_returns[sym].dropna())\n",
    "    normality_test(log_data)"
   ]
  },
  {
   "cell_type": "markdown",
   "metadata": {},
   "source": [
    "{{< pagebreak >}}"
   ]
  },
  {
   "cell_type": "markdown",
   "metadata": {},
   "source": [
    "#### Portfolio Optimization"
   ]
  },
  {
   "cell_type": "markdown",
   "metadata": {},
   "source": [
    "##### The Data"
   ]
  },
  {
   "cell_type": "code",
   "execution_count": 17,
   "metadata": {},
   "outputs": [
    {
     "name": "stdout",
     "output_type": "stream",
     "text": [
      "4\n"
     ]
    }
   ],
   "source": [
    "noa = len(tickers); print(noa)"
   ]
  },
  {
   "cell_type": "code",
   "execution_count": 18,
   "metadata": {},
   "outputs": [
    {
     "data": {
      "text/html": [
       "<div>\n",
       "<style scoped>\n",
       "    .dataframe tbody tr th:only-of-type {\n",
       "        vertical-align: middle;\n",
       "    }\n",
       "\n",
       "    .dataframe tbody tr th {\n",
       "        vertical-align: top;\n",
       "    }\n",
       "\n",
       "    .dataframe thead th {\n",
       "        text-align: right;\n",
       "    }\n",
       "</style>\n",
       "<table border=\"1\" class=\"dataframe\">\n",
       "  <thead>\n",
       "    <tr style=\"text-align: right;\">\n",
       "      <th>Ticker</th>\n",
       "      <th>SPY</th>\n",
       "      <th>GLD</th>\n",
       "      <th>AAPL</th>\n",
       "      <th>MSFT</th>\n",
       "    </tr>\n",
       "    <tr>\n",
       "      <th>Date</th>\n",
       "      <th></th>\n",
       "      <th></th>\n",
       "      <th></th>\n",
       "      <th></th>\n",
       "    </tr>\n",
       "  </thead>\n",
       "  <tbody>\n",
       "    <tr>\n",
       "      <th>2010-01-04</th>\n",
       "      <td>87.129936</td>\n",
       "      <td>109.800003</td>\n",
       "      <td>6.470741</td>\n",
       "      <td>23.431591</td>\n",
       "    </tr>\n",
       "    <tr>\n",
       "      <th>2010-01-05</th>\n",
       "      <td>87.360596</td>\n",
       "      <td>109.699997</td>\n",
       "      <td>6.481928</td>\n",
       "      <td>23.439150</td>\n",
       "    </tr>\n",
       "    <tr>\n",
       "      <th>2010-01-06</th>\n",
       "      <td>87.422081</td>\n",
       "      <td>111.510002</td>\n",
       "      <td>6.378826</td>\n",
       "      <td>23.295313</td>\n",
       "    </tr>\n",
       "    <tr>\n",
       "      <th>2010-01-07</th>\n",
       "      <td>87.791115</td>\n",
       "      <td>110.820000</td>\n",
       "      <td>6.367033</td>\n",
       "      <td>23.053051</td>\n",
       "    </tr>\n",
       "    <tr>\n",
       "      <th>2010-01-08</th>\n",
       "      <td>88.083260</td>\n",
       "      <td>111.370003</td>\n",
       "      <td>6.409361</td>\n",
       "      <td>23.212042</td>\n",
       "    </tr>\n",
       "    <tr>\n",
       "      <th>...</th>\n",
       "      <td>...</td>\n",
       "      <td>...</td>\n",
       "      <td>...</td>\n",
       "      <td>...</td>\n",
       "    </tr>\n",
       "    <tr>\n",
       "      <th>2020-06-22</th>\n",
       "      <td>294.683685</td>\n",
       "      <td>165.089996</td>\n",
       "      <td>87.738304</td>\n",
       "      <td>193.985809</td>\n",
       "    </tr>\n",
       "    <tr>\n",
       "      <th>2020-06-23</th>\n",
       "      <td>296.040314</td>\n",
       "      <td>166.479996</td>\n",
       "      <td>89.611069</td>\n",
       "      <td>195.281815</td>\n",
       "    </tr>\n",
       "    <tr>\n",
       "      <th>2020-06-24</th>\n",
       "      <td>288.488739</td>\n",
       "      <td>165.899994</td>\n",
       "      <td>88.029274</td>\n",
       "      <td>191.345444</td>\n",
       "    </tr>\n",
       "    <tr>\n",
       "      <th>2020-06-25</th>\n",
       "      <td>291.581482</td>\n",
       "      <td>165.800003</td>\n",
       "      <td>89.197899</td>\n",
       "      <td>193.763351</td>\n",
       "    </tr>\n",
       "    <tr>\n",
       "      <th>2020-06-26</th>\n",
       "      <td>284.656006</td>\n",
       "      <td>166.539993</td>\n",
       "      <td>86.457222</td>\n",
       "      <td>189.884979</td>\n",
       "    </tr>\n",
       "  </tbody>\n",
       "</table>\n",
       "<p>2639 rows × 4 columns</p>\n",
       "</div>"
      ],
      "text/plain": [
       "Ticker             SPY         GLD       AAPL        MSFT\n",
       "Date                                                     \n",
       "2010-01-04   87.129936  109.800003   6.470741   23.431591\n",
       "2010-01-05   87.360596  109.699997   6.481928   23.439150\n",
       "2010-01-06   87.422081  111.510002   6.378826   23.295313\n",
       "2010-01-07   87.791115  110.820000   6.367033   23.053051\n",
       "2010-01-08   88.083260  111.370003   6.409361   23.212042\n",
       "...                ...         ...        ...         ...\n",
       "2020-06-22  294.683685  165.089996  87.738304  193.985809\n",
       "2020-06-23  296.040314  166.479996  89.611069  195.281815\n",
       "2020-06-24  288.488739  165.899994  88.029274  191.345444\n",
       "2020-06-25  291.581482  165.800003  89.197899  193.763351\n",
       "2020-06-26  284.656006  166.539993  86.457222  189.884979\n",
       "\n",
       "[2639 rows x 4 columns]"
      ]
     },
     "execution_count": 18,
     "metadata": {},
     "output_type": "execute_result"
    }
   ],
   "source": [
    "data = mydata[tickers]; data"
   ]
  },
  {
   "cell_type": "code",
   "execution_count": 19,
   "metadata": {},
   "outputs": [
    {
     "data": {
      "text/html": [
       "<div>\n",
       "<style scoped>\n",
       "    .dataframe tbody tr th:only-of-type {\n",
       "        vertical-align: middle;\n",
       "    }\n",
       "\n",
       "    .dataframe tbody tr th {\n",
       "        vertical-align: top;\n",
       "    }\n",
       "\n",
       "    .dataframe thead th {\n",
       "        text-align: right;\n",
       "    }\n",
       "</style>\n",
       "<table border=\"1\" class=\"dataframe\">\n",
       "  <thead>\n",
       "    <tr style=\"text-align: right;\">\n",
       "      <th>Ticker</th>\n",
       "      <th>SPY</th>\n",
       "      <th>GLD</th>\n",
       "      <th>AAPL</th>\n",
       "      <th>MSFT</th>\n",
       "    </tr>\n",
       "    <tr>\n",
       "      <th>Date</th>\n",
       "      <th></th>\n",
       "      <th></th>\n",
       "      <th></th>\n",
       "      <th></th>\n",
       "    </tr>\n",
       "  </thead>\n",
       "  <tbody>\n",
       "    <tr>\n",
       "      <th>2010-01-04</th>\n",
       "      <td>NaN</td>\n",
       "      <td>NaN</td>\n",
       "      <td>NaN</td>\n",
       "      <td>NaN</td>\n",
       "    </tr>\n",
       "    <tr>\n",
       "      <th>2010-01-05</th>\n",
       "      <td>0.002644</td>\n",
       "      <td>-0.000911</td>\n",
       "      <td>0.001727</td>\n",
       "      <td>0.000323</td>\n",
       "    </tr>\n",
       "    <tr>\n",
       "      <th>2010-01-06</th>\n",
       "      <td>0.000704</td>\n",
       "      <td>0.016365</td>\n",
       "      <td>-0.016034</td>\n",
       "      <td>-0.006156</td>\n",
       "    </tr>\n",
       "    <tr>\n",
       "      <th>2010-01-07</th>\n",
       "      <td>0.004212</td>\n",
       "      <td>-0.006207</td>\n",
       "      <td>-0.001851</td>\n",
       "      <td>-0.010454</td>\n",
       "    </tr>\n",
       "    <tr>\n",
       "      <th>2010-01-08</th>\n",
       "      <td>0.003322</td>\n",
       "      <td>0.004951</td>\n",
       "      <td>0.006626</td>\n",
       "      <td>0.006873</td>\n",
       "    </tr>\n",
       "    <tr>\n",
       "      <th>...</th>\n",
       "      <td>...</td>\n",
       "      <td>...</td>\n",
       "      <td>...</td>\n",
       "      <td>...</td>\n",
       "    </tr>\n",
       "    <tr>\n",
       "      <th>2020-06-22</th>\n",
       "      <td>0.006395</td>\n",
       "      <td>0.006441</td>\n",
       "      <td>0.025827</td>\n",
       "      <td>0.027395</td>\n",
       "    </tr>\n",
       "    <tr>\n",
       "      <th>2020-06-23</th>\n",
       "      <td>0.004593</td>\n",
       "      <td>0.008384</td>\n",
       "      <td>0.021120</td>\n",
       "      <td>0.006659</td>\n",
       "    </tr>\n",
       "    <tr>\n",
       "      <th>2020-06-24</th>\n",
       "      <td>-0.025840</td>\n",
       "      <td>-0.003490</td>\n",
       "      <td>-0.017809</td>\n",
       "      <td>-0.020363</td>\n",
       "    </tr>\n",
       "    <tr>\n",
       "      <th>2020-06-25</th>\n",
       "      <td>0.010663</td>\n",
       "      <td>-0.000603</td>\n",
       "      <td>0.013188</td>\n",
       "      <td>0.012557</td>\n",
       "    </tr>\n",
       "    <tr>\n",
       "      <th>2020-06-26</th>\n",
       "      <td>-0.024038</td>\n",
       "      <td>0.004453</td>\n",
       "      <td>-0.031208</td>\n",
       "      <td>-0.020219</td>\n",
       "    </tr>\n",
       "  </tbody>\n",
       "</table>\n",
       "<p>2639 rows × 4 columns</p>\n",
       "</div>"
      ],
      "text/plain": [
       "Ticker           SPY       GLD      AAPL      MSFT\n",
       "Date                                              \n",
       "2010-01-04       NaN       NaN       NaN       NaN\n",
       "2010-01-05  0.002644 -0.000911  0.001727  0.000323\n",
       "2010-01-06  0.000704  0.016365 -0.016034 -0.006156\n",
       "2010-01-07  0.004212 -0.006207 -0.001851 -0.010454\n",
       "2010-01-08  0.003322  0.004951  0.006626  0.006873\n",
       "...              ...       ...       ...       ...\n",
       "2020-06-22  0.006395  0.006441  0.025827  0.027395\n",
       "2020-06-23  0.004593  0.008384  0.021120  0.006659\n",
       "2020-06-24 -0.025840 -0.003490 -0.017809 -0.020363\n",
       "2020-06-25  0.010663 -0.000603  0.013188  0.012557\n",
       "2020-06-26 -0.024038  0.004453 -0.031208 -0.020219\n",
       "\n",
       "[2639 rows x 4 columns]"
      ]
     },
     "execution_count": 19,
     "metadata": {},
     "output_type": "execute_result"
    }
   ],
   "source": [
    "rets = np.log(data / data.shift(1)); rets"
   ]
  },
  {
   "cell_type": "code",
   "execution_count": 20,
   "metadata": {},
   "outputs": [
    {
     "data": {
      "text/plain": [
       "array([[<Axes: title={'center': 'SPY'}>, <Axes: title={'center': 'GLD'}>],\n",
       "       [<Axes: title={'center': 'AAPL'}>,\n",
       "        <Axes: title={'center': 'MSFT'}>]], dtype=object)"
      ]
     },
     "execution_count": 20,
     "metadata": {},
     "output_type": "execute_result"
    },
    {
     "data": {
      "image/png": "[encoded data removed]",
      "text/plain": [
       "<Figure size 1000x800 with 4 Axes>"
      ]
     },
     "metadata": {},
     "output_type": "display_data"
    }
   ],
   "source": [
    "rets.hist(bins=40, figsize=(10,8))\n",
    "# plt.savefig()"
   ]
  },
  {
   "cell_type": "code",
   "execution_count": 21,
   "metadata": {},
   "outputs": [
    {
     "data": {
      "text/plain": [
       "Ticker\n",
       "SPY     0.113092\n",
       "GLD     0.039794\n",
       "AAPL    0.247640\n",
       "MSFT    0.199874\n",
       "dtype: float64"
      ]
     },
     "execution_count": 21,
     "metadata": {},
     "output_type": "execute_result"
    }
   ],
   "source": [
    "rets.mean() * 252"
   ]
  },
  {
   "cell_type": "code",
   "execution_count": 22,
   "metadata": {},
   "outputs": [
    {
     "data": {
      "text/html": [
       "<div>\n",
       "<style scoped>\n",
       "    .dataframe tbody tr th:only-of-type {\n",
       "        vertical-align: middle;\n",
       "    }\n",
       "\n",
       "    .dataframe tbody tr th {\n",
       "        vertical-align: top;\n",
       "    }\n",
       "\n",
       "    .dataframe thead th {\n",
       "        text-align: right;\n",
       "    }\n",
       "</style>\n",
       "<table border=\"1\" class=\"dataframe\">\n",
       "  <thead>\n",
       "    <tr style=\"text-align: right;\">\n",
       "      <th>Ticker</th>\n",
       "      <th>SPY</th>\n",
       "      <th>GLD</th>\n",
       "      <th>AAPL</th>\n",
       "      <th>MSFT</th>\n",
       "    </tr>\n",
       "    <tr>\n",
       "      <th>Ticker</th>\n",
       "      <th></th>\n",
       "      <th></th>\n",
       "      <th></th>\n",
       "      <th></th>\n",
       "    </tr>\n",
       "  </thead>\n",
       "  <tbody>\n",
       "    <tr>\n",
       "      <th>SPY</th>\n",
       "      <td>0.030126</td>\n",
       "      <td>0.000257</td>\n",
       "      <td>0.031757</td>\n",
       "      <td>0.032632</td>\n",
       "    </tr>\n",
       "    <tr>\n",
       "      <th>GLD</th>\n",
       "      <td>0.000257</td>\n",
       "      <td>0.025043</td>\n",
       "      <td>0.001011</td>\n",
       "      <td>-0.000259</td>\n",
       "    </tr>\n",
       "    <tr>\n",
       "      <th>AAPL</th>\n",
       "      <td>0.031757</td>\n",
       "      <td>0.001011</td>\n",
       "      <td>0.076588</td>\n",
       "      <td>0.038213</td>\n",
       "    </tr>\n",
       "    <tr>\n",
       "      <th>MSFT</th>\n",
       "      <td>0.032632</td>\n",
       "      <td>-0.000259</td>\n",
       "      <td>0.038213</td>\n",
       "      <td>0.063158</td>\n",
       "    </tr>\n",
       "  </tbody>\n",
       "</table>\n",
       "</div>"
      ],
      "text/plain": [
       "Ticker       SPY       GLD      AAPL      MSFT\n",
       "Ticker                                        \n",
       "SPY     0.030126  0.000257  0.031757  0.032632\n",
       "GLD     0.000257  0.025043  0.001011 -0.000259\n",
       "AAPL    0.031757  0.001011  0.076588  0.038213\n",
       "MSFT    0.032632 -0.000259  0.038213  0.063158"
      ]
     },
     "execution_count": 22,
     "metadata": {},
     "output_type": "execute_result"
    }
   ],
   "source": [
    "rets.cov() * 252\n"
   ]
  },
  {
   "cell_type": "markdown",
   "metadata": {},
   "source": [
    "##### The Basic Theory"
   ]
  },
  {
   "cell_type": "code",
   "execution_count": 23,
   "metadata": {},
   "outputs": [
    {
     "name": "stdout",
     "output_type": "stream",
     "text": [
      "[0.00754126 0.40529023 0.17545843 0.41171008]\n",
      "4\n"
     ]
    }
   ],
   "source": [
    "weights = np.random.random(noa)\n",
    "weights /= np.sum(weights)\n",
    "print(weights); print(noa)"
   ]
  },
  {
   "cell_type": "code",
   "execution_count": 24,
   "metadata": {},
   "outputs": [
    {
     "data": {
      "text/plain": [
       "array([0.00754126, 0.40529023, 0.17545843, 0.41171008])"
      ]
     },
     "execution_count": 24,
     "metadata": {},
     "output_type": "execute_result"
    }
   ],
   "source": [
    "weights"
   ]
  },
  {
   "cell_type": "code",
   "execution_count": 25,
   "metadata": {},
   "outputs": [
    {
     "data": {
      "text/plain": [
       "1.0"
      ]
     },
     "execution_count": 25,
     "metadata": {},
     "output_type": "execute_result"
    }
   ],
   "source": [
    "weights.sum()"
   ]
  },
  {
   "cell_type": "code",
   "execution_count": 26,
   "metadata": {},
   "outputs": [
    {
     "data": {
      "text/plain": [
       "0.14272176674830248"
      ]
     },
     "execution_count": 26,
     "metadata": {},
     "output_type": "execute_result"
    }
   ],
   "source": [
    "np.sum(rets.mean() * weights) * 252"
   ]
  },
  {
   "cell_type": "code",
   "execution_count": 27,
   "metadata": {},
   "outputs": [
    {
     "data": {
      "text/plain": [
       "0.02304539189458869"
      ]
     },
     "execution_count": 27,
     "metadata": {},
     "output_type": "execute_result"
    }
   ],
   "source": [
    "np.dot(weights.T, np.dot(rets.cov() * 252, weights))"
   ]
  },
  {
   "cell_type": "code",
   "execution_count": 28,
   "metadata": {},
   "outputs": [
    {
     "data": {
      "text/plain": [
       "0.1518070877613713"
      ]
     },
     "execution_count": 28,
     "metadata": {},
     "output_type": "execute_result"
    }
   ],
   "source": [
    "m.sqrt(np.dot(weights.T, np.dot(rets.cov() * 252, weights)))"
   ]
  },
  {
   "cell_type": "code",
   "execution_count": 7,
   "metadata": {},
   "outputs": [],
   "source": [
    "def port_ret(weights):\n",
    "    return np.sum(rets.mean() * weights) * 252\n",
    "def port_vol(weights):\n",
    "    return np.sqrt(np.dot(weights.T, np.dot(rets.cov() * 252, weights)))"
   ]
  },
  {
   "cell_type": "code",
   "execution_count": 31,
   "metadata": {},
   "outputs": [],
   "source": [
    "prets = []\n",
    "pvols = []\n",
    "for p in range (2500):\n",
    "    weights = np.random.random(noa)\n",
    "    weights /= np.sum(weights)\n",
    "    prets.append(port_ret(weights))\n",
    "    pvols.append(port_vol(weights))\n",
    "prets = np.array(prets)\n",
    "pvols = np.array(pvols)"
   ]
  },
  {
   "cell_type": "code",
   "execution_count": 32,
   "metadata": {},
   "outputs": [
    {
     "data": {
      "text/plain": [
       "<matplotlib.colorbar.Colorbar at 0x21295b0e2d0>"
      ]
     },
     "execution_count": 32,
     "metadata": {},
     "output_type": "execute_result"
    },
    {
     "data": {
      "image/png": "[encoded data removed]",
      "text/plain": [
       "<Figure size 1000x600 with 2 Axes>"
      ]
     },
     "metadata": {},
     "output_type": "display_data"
    }
   ],
   "source": [
    "plt.figure(figsize=(10, 6))\n",
    "plt.scatter(pvols, prets, c=prets / pvols,\n",
    "            marker='o', cmap='coolwarm')\n",
    "plt.xlabel('expected volatility')\n",
    "plt.ylabel('expected return')\n",
    "plt.colorbar(label='Sharpe Ratio')\n",
    "# plt.savefig()"
   ]
  },
  {
   "cell_type": "markdown",
   "metadata": {},
   "source": [
    "### Portfolio Optimizations"
   ]
  },
  {
   "cell_type": "code",
   "execution_count": 52,
   "metadata": {},
   "outputs": [],
   "source": [
    "import scipy.optimize as sco"
   ]
  },
  {
   "cell_type": "code",
   "execution_count": 53,
   "metadata": {},
   "outputs": [],
   "source": [
    "def min_func_sharpe(weights):\n",
    "    return -port_ret(weights) / port_vol(weights)"
   ]
  },
  {
   "cell_type": "code",
   "execution_count": 62,
   "metadata": {},
   "outputs": [],
   "source": [
    "cons = ({'type': 'eq', 'fun': lambda x: np.sum(x)-1})"
   ]
  },
  {
   "cell_type": "code",
   "execution_count": 55,
   "metadata": {},
   "outputs": [],
   "source": [
    "bnds = tuple((0, 1) for x in range(noa))"
   ]
  },
  {
   "cell_type": "code",
   "execution_count": 56,
   "metadata": {},
   "outputs": [
    {
     "data": {
      "text/plain": [
       "array([0.25, 0.25, 0.25, 0.25])"
      ]
     },
     "execution_count": 56,
     "metadata": {},
     "output_type": "execute_result"
    }
   ],
   "source": [
    "eweights = np.array(noa * [1. / noa,])\n",
    "eweights"
   ]
  },
  {
   "cell_type": "code",
   "execution_count": 57,
   "metadata": {},
   "outputs": [
    {
     "data": {
      "text/plain": [
       "-0.8213218692625033"
      ]
     },
     "execution_count": 57,
     "metadata": {},
     "output_type": "execute_result"
    }
   ],
   "source": [
    "min_func_sharpe(weights)"
   ]
  },
  {
   "cell_type": "code",
   "execution_count": 63,
   "metadata": {},
   "outputs": [
    {
     "name": "stdout",
     "output_type": "stream",
     "text": [
      "CPU times: total: 15.6 ms\n",
      "Wall time: 21 ms\n"
     ]
    },
    {
     "data": {
      "text/plain": [
       "0.995018725618054"
      ]
     },
     "execution_count": 63,
     "metadata": {},
     "output_type": "execute_result"
    }
   ],
   "source": [
    "%%time\n",
    "opts = sco.minimize(min_func_sharpe, eweights,\n",
    "                    method='SLSQP', bounds=bnds,\n",
    "                    constraints=cons)\n",
    "\n",
    "port_ret(opts['x']) / port_vol(opts['x'])"
   ]
  },
  {
   "cell_type": "markdown",
   "metadata": {},
   "source": [
    "##### Find the highest SR possible from selecting ten assets from S&P 500 firms and optimizing the SR"
   ]
  },
  {
   "cell_type": "code",
   "execution_count": 5,
   "metadata": {},
   "outputs": [
    {
     "data": {
      "text/plain": [
       "501"
      ]
     },
     "execution_count": 5,
     "metadata": {},
     "output_type": "execute_result"
    }
   ],
   "source": [
    "sp_url = 'https://en.wikipedia.org/wiki/List_of_S%26P_500_companies'\n",
    "sp500_constituents = pd.read_html(sp_url, header=0)[0]\n",
    "\n",
    "stocks_sp500 = sp500_constituents['Symbol']\n",
    "tickers = stocks_sp500.T\n",
    "tickers = tickers.values.tolist()\n",
    "\n",
    "tickers.remove('BF.B')\n",
    "tickers.remove('BRK.B')\n",
    "\n",
    "len(tickers)"
   ]
  },
  {
   "cell_type": "code",
   "execution_count": 4,
   "metadata": {},
   "outputs": [],
   "source": [
    "import random\n",
    "import scipy.optimize as sco\n",
    "\n",
    "noa = 10"
   ]
  },
  {
   "cell_type": "code",
   "execution_count": 91,
   "metadata": {},
   "outputs": [
    {
     "name": "stderr",
     "output_type": "stream",
     "text": [
      "\n",
      "1 Failed download:\n",
      "['BRO']: ReadTimeout(ReadTimeoutError(\"HTTPSConnectionPool(host='query2.finance.yahoo.com', port=443): Read timed out. (read timeout=10)\"))\n"
     ]
    },
    {
     "name": "stdout",
     "output_type": "stream",
     "text": [
      "\n",
      "Results\n",
      "------------------------------\n",
      "Highest Sharpe Ratio: 7.5334\n",
      "------------------------------\n",
      "Optimal Allocation: [0.00000000e+00 7.11056901e-15 1.39175443e-01 8.25501539e-15\n",
      " 1.38723680e-01 3.35536321e-01 3.86564556e-01 5.21155907e-15\n",
      " 0.00000000e+00 0.00000000e+00]\n",
      "------------------------------\n",
      "Selected Stocks: ['NRG', 'DRI', 'SBUX', 'CAH', 'RSG', 'FOX', 'CSCO', 'LEN', 'TEL', 'VLTO']\n",
      "CPU times: total: 10min 5s\n",
      "Wall time: 15min 46s\n"
     ]
    }
   ],
   "source": [
    "%%time\n",
    "\n",
    "\n",
    "loops = 2000\n",
    "\n",
    "max_iterated_SR = 0\n",
    "max_allocation = None\n",
    "best_stocks = None\n",
    "\n",
    "for i in range(loops):\n",
    "    stocks = random.sample(tickers, 10)\n",
    "\n",
    "    data = pd.DataFrame()\n",
    "    data = yf.download(stocks, start=\"2017-01-01\", end=\"2023-12-31\", progress=False)['Adj Close'].dropna()\n",
    "\n",
    "    rets = np.log(data / data.shift(1))\n",
    "\n",
    "    def min_func_sharpe(weights):\n",
    "        return -port_ret(weights) / port_vol(weights)\n",
    "\n",
    "    cons = ({'type': 'eq', 'fun': lambda x:  np.sum(x) - 1})\n",
    "    bnds = tuple((0, 1) for x in range(noa))\n",
    "    eweights = np.array(noa * [1. / noa,])\n",
    "    min_func_sharpe(eweights)\n",
    "\n",
    "    opts = sco.minimize(min_func_sharpe, eweights,\n",
    "                        method='SLSQP', bounds=bnds,\n",
    "                        constraints=cons)\n",
    "    \n",
    "    current_SR = -opts.fun\n",
    "    if current_SR > max_iterated_SR:\n",
    "        max_iterated_SR = current_SR\n",
    "        max_allocation = opts.x\n",
    "        best_stocks = stocks\n",
    "\n",
    "\n",
    "print('\\nResults')\n",
    "print(30 * '-')\n",
    "print(f'Highest Sharpe Ratio: {max_iterated_SR:.4f}')\n",
    "print(30 * '-')\n",
    "print(f'Optimal Allocation:', max_allocation)\n",
    "print(30 * '-')\n",
    "print(f'Selected Stocks: {best_stocks}')"
   ]
  },
  {
   "cell_type": "markdown",
   "metadata": {},
   "source": [
    "##### Just for fun, the optimal S&P 500 Portfolio"
   ]
  },
  {
   "cell_type": "code",
   "execution_count": 8,
   "metadata": {},
   "outputs": [
    {
     "name": "stderr",
     "output_type": "stream",
     "text": [
      "[*********************100%%**********************]  501 of 501 completed\n"
     ]
    },
    {
     "name": "stdout",
     "output_type": "stream",
     "text": [
      "        Optimal Weights\n",
      "Ticker                 \n",
      "A          2.851806e-11\n",
      "AAL        4.519820e-11\n",
      "AAPL       1.956665e-11\n",
      "ABBV       2.926920e-11\n",
      "ABNB       1.377566e-10\n",
      "...                 ...\n",
      "YUM        4.485146e-12\n",
      "ZBH        9.162573e-12\n",
      "ZBRA       1.815472e-11\n",
      "ZION       1.511795e-10\n",
      "ZTS        1.559570e-11\n",
      "\n",
      "[501 rows x 1 columns]\n",
      "CPU times: total: 12min 52s\n",
      "Wall time: 12min 55s\n"
     ]
    }
   ],
   "source": [
    "%%time\n",
    "\n",
    "noa = len(tickers)\n",
    "cons = ({'type': 'eq', 'fun': lambda x: np.sum(x)-1})\n",
    "bnds = tuple((0, 1) for _ in range(noa))\n",
    "eweights = np.array(noa * [1. / noa,])\n",
    "\n",
    "#min_func_sharpe(weights)\n",
    "\n",
    "data = pd.DataFrame()\n",
    "data = yf.download(tickers, start=\"2017-01-01\", end=\"2023-12-31\", progress=True)['Adj Close'].dropna()\n",
    "\n",
    "rets = np.log(data / data.shift(1))\n",
    "\n",
    "def min_func_sharpe(weights):\n",
    "    return -port_ret(weights) / port_vol(weights)\n",
    "\n",
    "cons = ({'type': 'eq', 'fun': lambda x:  np.sum(x) - 1})\n",
    "bnds = tuple((0, 1) for x in range(noa))\n",
    "eweights = np.array(noa * [1. / noa,])\n",
    "min_func_sharpe(eweights)\n",
    "\n",
    "opts = sco.minimize(min_func_sharpe, eweights,\n",
    "                    method='SLSQP', bounds=bnds,\n",
    "                    constraints=cons)\n",
    "\n",
    "optimal_weights_df = pd.DataFrame(opts.x, index=data.columns, columns=['Optimal Weights'])\n",
    "\n",
    "print(optimal_weights_df)"
   ]
  },
  {
   "cell_type": "code",
   "execution_count": 9,
   "metadata": {},
   "outputs": [
    {
     "data": {
      "text/html": [
       "<div>\n",
       "<style scoped>\n",
       "    .dataframe tbody tr th:only-of-type {\n",
       "        vertical-align: middle;\n",
       "    }\n",
       "\n",
       "    .dataframe tbody tr th {\n",
       "        vertical-align: top;\n",
       "    }\n",
       "\n",
       "    .dataframe thead th {\n",
       "        text-align: right;\n",
       "    }\n",
       "</style>\n",
       "<table border=\"1\" class=\"dataframe\">\n",
       "  <thead>\n",
       "    <tr style=\"text-align: right;\">\n",
       "      <th></th>\n",
       "      <th>Optimal Weights</th>\n",
       "    </tr>\n",
       "    <tr>\n",
       "      <th>Ticker</th>\n",
       "      <th></th>\n",
       "    </tr>\n",
       "  </thead>\n",
       "  <tbody>\n",
       "    <tr>\n",
       "      <th>A</th>\n",
       "      <td>2.851806e-11</td>\n",
       "    </tr>\n",
       "    <tr>\n",
       "      <th>AAL</th>\n",
       "      <td>4.519820e-11</td>\n",
       "    </tr>\n",
       "    <tr>\n",
       "      <th>AAPL</th>\n",
       "      <td>1.956665e-11</td>\n",
       "    </tr>\n",
       "    <tr>\n",
       "      <th>ABBV</th>\n",
       "      <td>2.926920e-11</td>\n",
       "    </tr>\n",
       "    <tr>\n",
       "      <th>ABNB</th>\n",
       "      <td>1.377566e-10</td>\n",
       "    </tr>\n",
       "    <tr>\n",
       "      <th>...</th>\n",
       "      <td>...</td>\n",
       "    </tr>\n",
       "    <tr>\n",
       "      <th>YUM</th>\n",
       "      <td>4.485146e-12</td>\n",
       "    </tr>\n",
       "    <tr>\n",
       "      <th>ZBH</th>\n",
       "      <td>9.162573e-12</td>\n",
       "    </tr>\n",
       "    <tr>\n",
       "      <th>ZBRA</th>\n",
       "      <td>1.815472e-11</td>\n",
       "    </tr>\n",
       "    <tr>\n",
       "      <th>ZION</th>\n",
       "      <td>1.511795e-10</td>\n",
       "    </tr>\n",
       "    <tr>\n",
       "      <th>ZTS</th>\n",
       "      <td>1.559570e-11</td>\n",
       "    </tr>\n",
       "  </tbody>\n",
       "</table>\n",
       "<p>501 rows × 1 columns</p>\n",
       "</div>"
      ],
      "text/plain": [
       "        Optimal Weights\n",
       "Ticker                 \n",
       "A          2.851806e-11\n",
       "AAL        4.519820e-11\n",
       "AAPL       1.956665e-11\n",
       "ABBV       2.926920e-11\n",
       "ABNB       1.377566e-10\n",
       "...                 ...\n",
       "YUM        4.485146e-12\n",
       "ZBH        9.162573e-12\n",
       "ZBRA       1.815472e-11\n",
       "ZION       1.511795e-10\n",
       "ZTS        1.559570e-11\n",
       "\n",
       "[501 rows x 1 columns]"
      ]
     },
     "execution_count": 9,
     "metadata": {},
     "output_type": "execute_result"
    }
   ],
   "source": [
    "optimal_weights_df"
   ]
  },
  {
   "cell_type": "code",
   "execution_count": 19,
   "metadata": {},
   "outputs": [],
   "source": [
    "%reset -f"
   ]
  },
  {
   "cell_type": "markdown",
   "metadata": {},
   "source": [
    "Looking at the datatable for the \"optimal SP 500\" list, it seems that there are some computational limitations, as after a certain point, the optimal weights are just zeros."
   ]
  },
  {
   "cell_type": "markdown",
   "metadata": {},
   "source": [
    "## Part B"
   ]
  },
  {
   "cell_type": "markdown",
   "metadata": {},
   "source": [
    "### Excersise 2.1: Data Manipulation"
   ]
  },
  {
   "cell_type": "code",
   "execution_count": 1,
   "metadata": {},
   "outputs": [
    {
     "name": "stdout",
     "output_type": "stream",
     "text": [
      "File succesfully downloaded.\n"
     ]
    }
   ],
   "source": [
    "import requests\n",
    "import pandas as pd\n",
    "\n",
    "url = 'https://raw.githubusercontent.com/datasets/london-life-expectancy/master/data/female-life-expectancy.csv'\n",
    "response = requests.get(url)\n",
    "if response.status_code == 200:\n",
    "    with open('female-life-expectancy.csv', 'wb') as file:\n",
    "        file.write(response.content)\n",
    "    print(f\"File succesfully downloaded.\")\n",
    "else:\n",
    "    print(f\"Failed to download the file. Status code: {response.status_code}\")"
   ]
  },
  {
   "cell_type": "code",
   "execution_count": 44,
   "metadata": {},
   "outputs": [],
   "source": [
    "raw_data = pd.read_csv('female-life-expectancy.csv')"
   ]
  },
  {
   "cell_type": "code",
   "execution_count": 47,
   "metadata": {},
   "outputs": [],
   "source": [
    "le_female = raw_data\n",
    "le_female.rename(columns={'Value': 'Life Expect'}, inplace=True)"
   ]
  },
  {
   "cell_type": "code",
   "execution_count": 57,
   "metadata": {},
   "outputs": [
    {
     "name": "stdout",
     "output_type": "stream",
     "text": [
      "\n",
      "Female Life Expectancy Statistics\n",
      "-----------------------------------\n",
      "Mean: 81.280\n",
      "Median: 81.100\n",
      "Descriptive Stats: count    988.000000\n",
      "mean      81.280104\n",
      "std        1.885620\n",
      "min       77.400000\n",
      "25%       79.900000\n",
      "50%       81.100000\n",
      "75%       82.650000\n",
      "max       86.700000\n",
      "Name: Life Expect, dtype: float64\n"
     ]
    }
   ],
   "source": [
    "mean = le_female['Life Expect'].mean()\n",
    "median = le_female['Life Expect'].median()\n",
    "descrip = le_female['Life Expect'].describe()\n",
    "\n",
    "print('\\nFemale Life Expectancy Statistics')\n",
    "print(35 * '-')\n",
    "print(f'Mean: {mean:.3f}')\n",
    "print(f'Median: {median:.3f}')\n",
    "print(f'Descriptive Stats: {descrip}')\n",
    "\n",
    "del raw_data, le_female"
   ]
  },
  {
   "cell_type": "markdown",
   "metadata": {},
   "source": [
    "### Excersise 2.2: Data import and export"
   ]
  },
  {
   "cell_type": "code",
   "execution_count": 61,
   "metadata": {},
   "outputs": [
    {
     "name": "stdout",
     "output_type": "stream",
     "text": [
      "File succesfully downloaded.\n"
     ]
    }
   ],
   "source": [
    "url = 'https://raw.githubusercontent.com/datasets/population-reference-bureau/master/data/us/fertility/data/us-fertility.csv'\n",
    "response = requests.get(url)\n",
    "if response.status_code == 200:\n",
    "    with open('us-fertility.csv', 'wb') as file:\n",
    "        file.write(response.content)\n",
    "    print(f\"File succesfully downloaded.\")\n",
    "    del file\n",
    "else:\n",
    "    print(f\"Failed to download the file. Status code: {response.status_code}\")"
   ]
  },
  {
   "cell_type": "code",
   "execution_count": 3,
   "metadata": {},
   "outputs": [
    {
     "name": "stdout",
     "output_type": "stream",
     "text": [
      "<class 'pandas.core.frame.DataFrame'>\n",
      "RangeIndex: 936 entries, 0 to 935\n",
      "Data columns (total 4 columns):\n",
      " #   Column     Non-Null Count  Dtype  \n",
      "---  ------     --------------  -----  \n",
      " 0   Type       936 non-null    object \n",
      " 1   TimeFrame  936 non-null    int64  \n",
      " 2   Data       936 non-null    float64\n",
      " 3   NameFIPS   936 non-null    object \n",
      "dtypes: float64(1), int64(1), object(2)\n",
      "memory usage: 29.4+ KB\n"
     ]
    }
   ],
   "source": [
    "fertilityUS = pd.read_csv('us-fertility.csv')\n",
    "fertilityUS.info()"
   ]
  },
  {
   "cell_type": "code",
   "execution_count": 7,
   "metadata": {},
   "outputs": [
    {
     "data": {
      "text/plain": [
       "NameFIPS\n",
       "Alabama 01                 18\n",
       "Alaska 02                  18\n",
       "Nevada 32                  18\n",
       "New Hampshire 33           18\n",
       "New Jersey 34              18\n",
       "New Mexico 35              18\n",
       "New York 36                18\n",
       "North Carolina 37          18\n",
       "North Dakota 38            18\n",
       "Ohio 39                    18\n",
       "Oklahoma 40                18\n",
       "Oregon 41                  18\n",
       "Pennsylvania 42            18\n",
       "Rhode Island 44            18\n",
       "South Carolina 45          18\n",
       "South Dakota 46            18\n",
       "Tennessee 47               18\n",
       "Texas 48                   18\n",
       "Utah 49                    18\n",
       "Vermont 50                 18\n",
       "Virginia 51                18\n",
       "Washington 53              18\n",
       "West Virginia 54           18\n",
       "Wisconsin 55               18\n",
       "Wyoming 56                 18\n",
       "Nebraska 31                18\n",
       "Montana 30                 18\n",
       "Missouri 29                18\n",
       "Idaho 16                   18\n",
       "Arizona 04                 18\n",
       "Arkansas 05                18\n",
       "California 06              18\n",
       "Colorado 08                18\n",
       "Connecticut 09             18\n",
       "Delaware 10                18\n",
       "District of Columbia 11    18\n",
       "Florida 12                 18\n",
       "Georgia 13                 18\n",
       "Hawaii 15                  18\n",
       "Illinois 17                18\n",
       "Mississippi 28             18\n",
       "Indiana 18                 18\n",
       "Iowa 19                    18\n",
       "Kansas 20                  18\n",
       "Kentucky 21                18\n",
       "Louisiana 22               18\n",
       "Maine 23                   18\n",
       "Maryland 24                18\n",
       "Massachusetts 25           18\n",
       "Michigan 26                18\n",
       "Minnesota 27               18\n",
       "United States US           18\n",
       "Name: count, dtype: int64"
      ]
     },
     "execution_count": 7,
     "metadata": {},
     "output_type": "execute_result"
    }
   ],
   "source": [
    "fertilityUS['NameFIPS'].value_counts()"
   ]
  },
  {
   "cell_type": "code",
   "execution_count": 24,
   "metadata": {},
   "outputs": [
    {
     "data": {
      "text/plain": [
       "TimeFrame\n",
       "2000    2.088654\n",
       "2001    2.075577\n",
       "2002    1.992885\n",
       "2003    2.022308\n",
       "2004    2.027115\n",
       "2005    2.030385\n",
       "2006    2.092500\n",
       "2007    2.116731\n",
       "2008    2.085385\n",
       "2009    2.004808\n",
       "2010    1.943462\n",
       "2011    1.910577\n",
       "2012    1.896923\n",
       "2013    1.877500\n",
       "2014    1.880962\n",
       "2015    1.866538\n",
       "2016    1.841538\n",
       "2017    1.788077\n",
       "Name: Data, dtype: float64"
      ]
     },
     "execution_count": 24,
     "metadata": {},
     "output_type": "execute_result"
    }
   ],
   "source": [
    "grouped_states = fertilityUS.groupby('TimeFrame')['Data'].mean()\n",
    "grouped_states"
   ]
  },
  {
   "cell_type": "code",
   "execution_count": 25,
   "metadata": {},
   "outputs": [
    {
     "data": {
      "text/plain": [
       "NameFIPS\n",
       "Alabama 01                 1.907778\n",
       "Alaska 02                  2.309444\n",
       "Arizona 04                 2.204444\n",
       "Arkansas 05                2.046667\n",
       "California 06              2.007778\n",
       "Colorado 08                1.983333\n",
       "Connecticut 09             1.786667\n",
       "Delaware 10                1.936111\n",
       "District of Columbia 11    1.665556\n",
       "Florida 12                 1.932222\n",
       "Georgia 13                 2.036111\n",
       "Hawaii 15                  2.163333\n",
       "Idaho 16                   2.255000\n",
       "Illinois 17                1.945000\n",
       "Indiana 18                 2.006111\n",
       "Iowa 19                    2.023333\n",
       "Kansas 20                  2.130000\n",
       "Kentucky 21                1.970556\n",
       "Louisiana 22               1.992778\n",
       "Maine 23                   1.691667\n",
       "Maryland 24                1.910000\n",
       "Massachusetts 25           1.683333\n",
       "Michigan 26                1.872778\n",
       "Minnesota 27               2.003333\n",
       "Mississippi 28             2.011111\n",
       "Missouri 29                1.954444\n",
       "Montana 30                 1.985000\n",
       "Nebraska 31                2.188333\n",
       "Nevada 32                  2.122222\n",
       "New Hampshire 33           1.670556\n",
       "New Jersey 34              1.953889\n",
       "New Mexico 35              2.093333\n",
       "New York 36                1.827778\n",
       "North Carolina 37          1.983889\n",
       "North Dakota 38            2.057778\n",
       "Ohio 39                    1.927222\n",
       "Oklahoma 40                2.096667\n",
       "Oregon 41                  1.837778\n",
       "Pennsylvania 42            1.824444\n",
       "Rhode Island 44            1.670000\n",
       "South Carolina 45          1.915556\n",
       "South Dakota 46            2.267222\n",
       "Tennessee 47               1.942222\n",
       "Texas 48                   2.237778\n",
       "United States US           1.967778\n",
       "Utah 49                    2.471667\n",
       "Vermont 50                 1.622222\n",
       "Virginia 51                1.909444\n",
       "Washington 53              1.906111\n",
       "West Virginia 54           1.808889\n",
       "Wisconsin 55               1.907778\n",
       "Wyoming 56                 2.052222\n",
       "Name: Data, dtype: float64"
      ]
     },
     "execution_count": 25,
     "metadata": {},
     "output_type": "execute_result"
    }
   ],
   "source": [
    "grouped_year = fertilityUS.groupby('NameFIPS')['Data'].mean()\n",
    "grouped_year"
   ]
  },
  {
   "cell_type": "code",
   "execution_count": 32,
   "metadata": {},
   "outputs": [
    {
     "data": {
      "text/html": [
       "<div>\n",
       "<style scoped>\n",
       "    .dataframe tbody tr th:only-of-type {\n",
       "        vertical-align: middle;\n",
       "    }\n",
       "\n",
       "    .dataframe tbody tr th {\n",
       "        vertical-align: top;\n",
       "    }\n",
       "\n",
       "    .dataframe thead th {\n",
       "        text-align: right;\n",
       "    }\n",
       "</style>\n",
       "<table border=\"1\" class=\"dataframe\">\n",
       "  <thead>\n",
       "    <tr style=\"text-align: right;\">\n",
       "      <th></th>\n",
       "      <th>Type</th>\n",
       "      <th>TimeFrame</th>\n",
       "      <th>Data</th>\n",
       "      <th>NameFIPS</th>\n",
       "    </tr>\n",
       "  </thead>\n",
       "  <tbody>\n",
       "    <tr>\n",
       "      <th>162</th>\n",
       "      <td>State</td>\n",
       "      <td>2000</td>\n",
       "      <td>2.16</td>\n",
       "      <td>Florida 12</td>\n",
       "    </tr>\n",
       "    <tr>\n",
       "      <th>163</th>\n",
       "      <td>State</td>\n",
       "      <td>2001</td>\n",
       "      <td>2.17</td>\n",
       "      <td>Florida 12</td>\n",
       "    </tr>\n",
       "    <tr>\n",
       "      <th>164</th>\n",
       "      <td>State</td>\n",
       "      <td>2002</td>\n",
       "      <td>2.00</td>\n",
       "      <td>Florida 12</td>\n",
       "    </tr>\n",
       "    <tr>\n",
       "      <th>165</th>\n",
       "      <td>State</td>\n",
       "      <td>2003</td>\n",
       "      <td>2.01</td>\n",
       "      <td>Florida 12</td>\n",
       "    </tr>\n",
       "    <tr>\n",
       "      <th>166</th>\n",
       "      <td>State</td>\n",
       "      <td>2004</td>\n",
       "      <td>2.02</td>\n",
       "      <td>Florida 12</td>\n",
       "    </tr>\n",
       "  </tbody>\n",
       "</table>\n",
       "</div>"
      ],
      "text/plain": [
       "      Type  TimeFrame  Data    NameFIPS\n",
       "162  State       2000  2.16  Florida 12\n",
       "163  State       2001  2.17  Florida 12\n",
       "164  State       2002  2.00  Florida 12\n",
       "165  State       2003  2.01  Florida 12\n",
       "166  State       2004  2.02  Florida 12"
      ]
     },
     "execution_count": 32,
     "metadata": {},
     "output_type": "execute_result"
    }
   ],
   "source": [
    "states = ['Georgia 13', 'South Carolina 45', 'Florida 12']\n",
    "southdata = fertilityUS.loc[fertilityUS['NameFIPS'].isin(states)]\n",
    "southdata.head(5)"
   ]
  },
  {
   "cell_type": "code",
   "execution_count": 35,
   "metadata": {},
   "outputs": [
    {
     "name": "stdout",
     "output_type": "stream",
     "text": [
      "<class 'pandas.core.frame.DataFrame'>\n",
      "Index: 20 entries, 162 to 181\n",
      "Data columns (total 1 columns):\n",
      " #   Column    Non-Null Count  Dtype \n",
      "---  ------    --------------  ----- \n",
      " 0   NameFIPS  20 non-null     object\n",
      "dtypes: object(1)\n",
      "memory usage: 320.0+ bytes\n"
     ]
    }
   ],
   "source": [
    "southsubset = southdata.iloc[0:20, 3:4]\n",
    "southsubset.info()"
   ]
  },
  {
   "cell_type": "code",
   "execution_count": 38,
   "metadata": {},
   "outputs": [],
   "source": [
    "%reset -f"
   ]
  },
  {
   "cell_type": "markdown",
   "metadata": {},
   "source": [
    "### Excersise 2.3: Hypothesis Testing with Fertility Data"
   ]
  },
  {
   "cell_type": "code",
   "execution_count": 8,
   "metadata": {},
   "outputs": [],
   "source": [
    "import statsmodels.api as sm\n",
    "import numpy as np\n",
    "import matplotlib.pyplot as plt\n",
    "import pandas as pd\n",
    "from sklearn.linear_model import LinearRegression"
   ]
  },
  {
   "cell_type": "code",
   "execution_count": 40,
   "metadata": {},
   "outputs": [
    {
     "data": {
      "text/html": [
       "<div>\n",
       "<style scoped>\n",
       "    .dataframe tbody tr th:only-of-type {\n",
       "        vertical-align: middle;\n",
       "    }\n",
       "\n",
       "    .dataframe tbody tr th {\n",
       "        vertical-align: top;\n",
       "    }\n",
       "\n",
       "    .dataframe thead th {\n",
       "        text-align: right;\n",
       "    }\n",
       "</style>\n",
       "<table border=\"1\" class=\"dataframe\">\n",
       "  <thead>\n",
       "    <tr style=\"text-align: right;\">\n",
       "      <th></th>\n",
       "      <th>Type</th>\n",
       "      <th>TimeFrame</th>\n",
       "      <th>Data</th>\n",
       "      <th>NameFIPS</th>\n",
       "    </tr>\n",
       "  </thead>\n",
       "  <tbody>\n",
       "    <tr>\n",
       "      <th>0</th>\n",
       "      <td>State</td>\n",
       "      <td>2000</td>\n",
       "      <td>2.02</td>\n",
       "      <td>Alabama 01</td>\n",
       "    </tr>\n",
       "    <tr>\n",
       "      <th>1</th>\n",
       "      <td>State</td>\n",
       "      <td>2001</td>\n",
       "      <td>1.94</td>\n",
       "      <td>Alabama 01</td>\n",
       "    </tr>\n",
       "    <tr>\n",
       "      <th>2</th>\n",
       "      <td>State</td>\n",
       "      <td>2002</td>\n",
       "      <td>1.88</td>\n",
       "      <td>Alabama 01</td>\n",
       "    </tr>\n",
       "    <tr>\n",
       "      <th>3</th>\n",
       "      <td>State</td>\n",
       "      <td>2003</td>\n",
       "      <td>1.92</td>\n",
       "      <td>Alabama 01</td>\n",
       "    </tr>\n",
       "    <tr>\n",
       "      <th>4</th>\n",
       "      <td>State</td>\n",
       "      <td>2004</td>\n",
       "      <td>1.91</td>\n",
       "      <td>Alabama 01</td>\n",
       "    </tr>\n",
       "    <tr>\n",
       "      <th>...</th>\n",
       "      <td>...</td>\n",
       "      <td>...</td>\n",
       "      <td>...</td>\n",
       "      <td>...</td>\n",
       "    </tr>\n",
       "    <tr>\n",
       "      <th>931</th>\n",
       "      <td>Country</td>\n",
       "      <td>2013</td>\n",
       "      <td>1.86</td>\n",
       "      <td>United States US</td>\n",
       "    </tr>\n",
       "    <tr>\n",
       "      <th>932</th>\n",
       "      <td>Country</td>\n",
       "      <td>2014</td>\n",
       "      <td>1.86</td>\n",
       "      <td>United States US</td>\n",
       "    </tr>\n",
       "    <tr>\n",
       "      <th>933</th>\n",
       "      <td>Country</td>\n",
       "      <td>2015</td>\n",
       "      <td>1.84</td>\n",
       "      <td>United States US</td>\n",
       "    </tr>\n",
       "    <tr>\n",
       "      <th>934</th>\n",
       "      <td>Country</td>\n",
       "      <td>2016</td>\n",
       "      <td>1.82</td>\n",
       "      <td>United States US</td>\n",
       "    </tr>\n",
       "    <tr>\n",
       "      <th>935</th>\n",
       "      <td>Country</td>\n",
       "      <td>2017</td>\n",
       "      <td>1.77</td>\n",
       "      <td>United States US</td>\n",
       "    </tr>\n",
       "  </tbody>\n",
       "</table>\n",
       "<p>936 rows × 4 columns</p>\n",
       "</div>"
      ],
      "text/plain": [
       "        Type  TimeFrame  Data          NameFIPS\n",
       "0      State       2000  2.02        Alabama 01\n",
       "1      State       2001  1.94        Alabama 01\n",
       "2      State       2002  1.88        Alabama 01\n",
       "3      State       2003  1.92        Alabama 01\n",
       "4      State       2004  1.91        Alabama 01\n",
       "..       ...        ...   ...               ...\n",
       "931  Country       2013  1.86  United States US\n",
       "932  Country       2014  1.86  United States US\n",
       "933  Country       2015  1.84  United States US\n",
       "934  Country       2016  1.82  United States US\n",
       "935  Country       2017  1.77  United States US\n",
       "\n",
       "[936 rows x 4 columns]"
      ]
     },
     "execution_count": 40,
     "metadata": {},
     "output_type": "execute_result"
    }
   ],
   "source": [
    "url = \"https://raw.githubusercontent.com/datasets/population-reference-bureau/master/data/us/fertility/data/us-fertility.csv\"\n",
    "\n",
    "fertility = pd.read_csv(url)\n",
    "fertility"
   ]
  },
  {
   "cell_type": "code",
   "execution_count": 52,
   "metadata": {},
   "outputs": [
    {
     "data": {
      "text/html": [
       "<div>\n",
       "<style scoped>\n",
       "    .dataframe tbody tr th:only-of-type {\n",
       "        vertical-align: middle;\n",
       "    }\n",
       "\n",
       "    .dataframe tbody tr th {\n",
       "        vertical-align: top;\n",
       "    }\n",
       "\n",
       "    .dataframe thead th {\n",
       "        text-align: right;\n",
       "    }\n",
       "</style>\n",
       "<table border=\"1\" class=\"dataframe\">\n",
       "  <thead>\n",
       "    <tr style=\"text-align: right;\">\n",
       "      <th></th>\n",
       "      <th>Z</th>\n",
       "      <th>P-Value</th>\n",
       "    </tr>\n",
       "  </thead>\n",
       "  <tbody>\n",
       "    <tr>\n",
       "      <th>0</th>\n",
       "      <td>-13.72876</td>\n",
       "      <td>3.414602e-43</td>\n",
       "    </tr>\n",
       "  </tbody>\n",
       "</table>\n",
       "</div>"
      ],
      "text/plain": [
       "          Z       P-Value\n",
       "0 -13.72876  3.414602e-43"
      ]
     },
     "execution_count": 52,
     "metadata": {},
     "output_type": "execute_result"
    }
   ],
   "source": [
    "null = 2.1\n",
    "fertility_2017 = fertility[fertility['TimeFrame'] == 2017]['Data']\n",
    "\n",
    "test = sm.stats.ztest(fertility_2017, value = null, alternative = \"smaller\")\n",
    "d = {'Z': [test[0]], 'P-Value': [test[1]]}\n",
    "df = pd.DataFrame(data=d)\n",
    "df\n",
    "# print(f\"T-statistic: {t_statistic}\")\n",
    "# print(f\"P-value: {p_value}\")\n",
    "# print(f\"Degrees of Freedom: {degrees_of_freedom}\")"
   ]
  },
  {
   "cell_type": "markdown",
   "metadata": {},
   "source": [
    "### Excersise 2.4: Linear Regression"
   ]
  },
  {
   "cell_type": "code",
   "execution_count": 15,
   "metadata": {},
   "outputs": [
    {
     "data": {
      "text/html": [
       "<div>\n",
       "<style scoped>\n",
       "    .dataframe tbody tr th:only-of-type {\n",
       "        vertical-align: middle;\n",
       "    }\n",
       "\n",
       "    .dataframe tbody tr th {\n",
       "        vertical-align: top;\n",
       "    }\n",
       "\n",
       "    .dataframe thead th {\n",
       "        text-align: right;\n",
       "    }\n",
       "</style>\n",
       "<table border=\"1\" class=\"dataframe\">\n",
       "  <thead>\n",
       "    <tr style=\"text-align: right;\">\n",
       "      <th></th>\n",
       "      <th>total_bill</th>\n",
       "      <th>tip</th>\n",
       "      <th>sex</th>\n",
       "      <th>smoker</th>\n",
       "      <th>day</th>\n",
       "      <th>time</th>\n",
       "      <th>size</th>\n",
       "    </tr>\n",
       "  </thead>\n",
       "  <tbody>\n",
       "    <tr>\n",
       "      <th>0</th>\n",
       "      <td>16.99</td>\n",
       "      <td>1.01</td>\n",
       "      <td>Female</td>\n",
       "      <td>No</td>\n",
       "      <td>Sun</td>\n",
       "      <td>Dinner</td>\n",
       "      <td>2</td>\n",
       "    </tr>\n",
       "    <tr>\n",
       "      <th>1</th>\n",
       "      <td>10.34</td>\n",
       "      <td>1.66</td>\n",
       "      <td>Male</td>\n",
       "      <td>No</td>\n",
       "      <td>Sun</td>\n",
       "      <td>Dinner</td>\n",
       "      <td>3</td>\n",
       "    </tr>\n",
       "    <tr>\n",
       "      <th>2</th>\n",
       "      <td>21.01</td>\n",
       "      <td>3.50</td>\n",
       "      <td>Male</td>\n",
       "      <td>No</td>\n",
       "      <td>Sun</td>\n",
       "      <td>Dinner</td>\n",
       "      <td>3</td>\n",
       "    </tr>\n",
       "    <tr>\n",
       "      <th>3</th>\n",
       "      <td>23.68</td>\n",
       "      <td>3.31</td>\n",
       "      <td>Male</td>\n",
       "      <td>No</td>\n",
       "      <td>Sun</td>\n",
       "      <td>Dinner</td>\n",
       "      <td>2</td>\n",
       "    </tr>\n",
       "    <tr>\n",
       "      <th>4</th>\n",
       "      <td>24.59</td>\n",
       "      <td>3.61</td>\n",
       "      <td>Female</td>\n",
       "      <td>No</td>\n",
       "      <td>Sun</td>\n",
       "      <td>Dinner</td>\n",
       "      <td>4</td>\n",
       "    </tr>\n",
       "  </tbody>\n",
       "</table>\n",
       "</div>"
      ],
      "text/plain": [
       "   total_bill   tip     sex smoker  day    time  size\n",
       "0       16.99  1.01  Female     No  Sun  Dinner     2\n",
       "1       10.34  1.66    Male     No  Sun  Dinner     3\n",
       "2       21.01  3.50    Male     No  Sun  Dinner     3\n",
       "3       23.68  3.31    Male     No  Sun  Dinner     2\n",
       "4       24.59  3.61  Female     No  Sun  Dinner     4"
      ]
     },
     "execution_count": 15,
     "metadata": {},
     "output_type": "execute_result"
    }
   ],
   "source": [
    "tips = pd.read_csv('https://raw.githubusercontent.com/mwaskom/seaborn-data/master/tips.csv')\n",
    "tips.head()"
   ]
  },
  {
   "cell_type": "code",
   "execution_count": 17,
   "metadata": {},
   "outputs": [
    {
     "data": {
      "text/html": [
       "<div>\n",
       "<style scoped>\n",
       "    .dataframe tbody tr th:only-of-type {\n",
       "        vertical-align: middle;\n",
       "    }\n",
       "\n",
       "    .dataframe tbody tr th {\n",
       "        vertical-align: top;\n",
       "    }\n",
       "\n",
       "    .dataframe thead th {\n",
       "        text-align: right;\n",
       "    }\n",
       "</style>\n",
       "<table border=\"1\" class=\"dataframe\">\n",
       "  <thead>\n",
       "    <tr style=\"text-align: right;\">\n",
       "      <th></th>\n",
       "      <th>total_bill</th>\n",
       "      <th>tip</th>\n",
       "      <th>day</th>\n",
       "      <th>time</th>\n",
       "      <th>size</th>\n",
       "      <th>sex_Female</th>\n",
       "      <th>sex_Male</th>\n",
       "      <th>smoker_No</th>\n",
       "      <th>smoker_Yes</th>\n",
       "    </tr>\n",
       "  </thead>\n",
       "  <tbody>\n",
       "    <tr>\n",
       "      <th>0</th>\n",
       "      <td>16.99</td>\n",
       "      <td>1.01</td>\n",
       "      <td>Sun</td>\n",
       "      <td>Dinner</td>\n",
       "      <td>2</td>\n",
       "      <td>1.0</td>\n",
       "      <td>0.0</td>\n",
       "      <td>1.0</td>\n",
       "      <td>0.0</td>\n",
       "    </tr>\n",
       "    <tr>\n",
       "      <th>1</th>\n",
       "      <td>10.34</td>\n",
       "      <td>1.66</td>\n",
       "      <td>Sun</td>\n",
       "      <td>Dinner</td>\n",
       "      <td>3</td>\n",
       "      <td>0.0</td>\n",
       "      <td>1.0</td>\n",
       "      <td>1.0</td>\n",
       "      <td>0.0</td>\n",
       "    </tr>\n",
       "    <tr>\n",
       "      <th>2</th>\n",
       "      <td>21.01</td>\n",
       "      <td>3.50</td>\n",
       "      <td>Sun</td>\n",
       "      <td>Dinner</td>\n",
       "      <td>3</td>\n",
       "      <td>0.0</td>\n",
       "      <td>1.0</td>\n",
       "      <td>1.0</td>\n",
       "      <td>0.0</td>\n",
       "    </tr>\n",
       "    <tr>\n",
       "      <th>3</th>\n",
       "      <td>23.68</td>\n",
       "      <td>3.31</td>\n",
       "      <td>Sun</td>\n",
       "      <td>Dinner</td>\n",
       "      <td>2</td>\n",
       "      <td>0.0</td>\n",
       "      <td>1.0</td>\n",
       "      <td>1.0</td>\n",
       "      <td>0.0</td>\n",
       "    </tr>\n",
       "    <tr>\n",
       "      <th>4</th>\n",
       "      <td>24.59</td>\n",
       "      <td>3.61</td>\n",
       "      <td>Sun</td>\n",
       "      <td>Dinner</td>\n",
       "      <td>4</td>\n",
       "      <td>1.0</td>\n",
       "      <td>0.0</td>\n",
       "      <td>1.0</td>\n",
       "      <td>0.0</td>\n",
       "    </tr>\n",
       "  </tbody>\n",
       "</table>\n",
       "</div>"
      ],
      "text/plain": [
       "   total_bill   tip  day    time  size  sex_Female  sex_Male  smoker_No  \\\n",
       "0       16.99  1.01  Sun  Dinner     2         1.0       0.0        1.0   \n",
       "1       10.34  1.66  Sun  Dinner     3         0.0       1.0        1.0   \n",
       "2       21.01  3.50  Sun  Dinner     3         0.0       1.0        1.0   \n",
       "3       23.68  3.31  Sun  Dinner     2         0.0       1.0        1.0   \n",
       "4       24.59  3.61  Sun  Dinner     4         1.0       0.0        1.0   \n",
       "\n",
       "   smoker_Yes  \n",
       "0         0.0  \n",
       "1         0.0  \n",
       "2         0.0  \n",
       "3         0.0  \n",
       "4         0.0  "
      ]
     },
     "execution_count": 17,
     "metadata": {},
     "output_type": "execute_result"
    }
   ],
   "source": [
    "tipsN = pd.get_dummies(tips, columns=['sex','smoker'], dtype=float) # this converts the categorical variables into dummies.\n",
    "tipsN.head()"
   ]
  },
  {
   "cell_type": "code",
   "execution_count": 18,
   "metadata": {},
   "outputs": [],
   "source": [
    "tipsNew = tipsN.dropna()"
   ]
  },
  {
   "cell_type": "code",
   "execution_count": 19,
   "metadata": {},
   "outputs": [
    {
     "name": "stdout",
     "output_type": "stream",
     "text": [
      "                            OLS Regression Results                            \n",
      "==============================================================================\n",
      "Dep. Variable:                    tip   R-squared:                       0.459\n",
      "Model:                            OLS   Adj. R-squared:                  0.453\n",
      "Method:                 Least Squares   F-statistic:                     67.99\n",
      "Date:                Tue, 20 Feb 2024   Prob (F-statistic):           7.39e-32\n",
      "Time:                        11:56:29   Log-Likelihood:                -349.90\n",
      "No. Observations:                 244   AIC:                             707.8\n",
      "Df Residuals:                     240   BIC:                             721.8\n",
      "Df Model:                           3                                         \n",
      "Covariance Type:            nonrobust                                         \n",
      "==============================================================================\n",
      "                 coef    std err          t      P>|t|      [0.025      0.975]\n",
      "------------------------------------------------------------------------------\n",
      "const          0.9770      0.178      5.484      0.000       0.626       1.328\n",
      "sex_Male      -0.0281      0.138     -0.203      0.839      -0.300       0.244\n",
      "smoker_Yes    -0.1492      0.135     -1.102      0.272      -0.416       0.118\n",
      "total_bill     0.1059      0.007     14.158      0.000       0.091       0.121\n",
      "==============================================================================\n",
      "Omnibus:                       23.998   Durbin-Watson:                   2.148\n",
      "Prob(Omnibus):                  0.000   Jarque-Bera (JB):               44.857\n",
      "Skew:                           0.528   Prob(JB):                     1.82e-10\n",
      "Kurtosis:                       4.815   Cond. No.                         64.6\n",
      "==============================================================================\n",
      "\n",
      "Notes:\n",
      "[1] Standard Errors assume that the covariance matrix of the errors is correctly specified.\n"
     ]
    }
   ],
   "source": [
    "XVars = tipsNew[['sex_Male', 'smoker_Yes', 'total_bill']]\n",
    "Y = tipsNew['tip']\n",
    "\n",
    "XVars = sm.add_constant(XVars)\n",
    "model = sm.OLS(Y, XVars).fit()\n",
    "predictions = model.predict(XVars)\n",
    "\n",
    "print_model = model.summary()\n",
    "print(print_model)"
   ]
  },
  {
   "cell_type": "markdown",
   "metadata": {},
   "source": [
    "### Exercise 2.5: Basic Plots"
   ]
  },
  {
   "cell_type": "code",
   "execution_count": 20,
   "metadata": {},
   "outputs": [
    {
     "data": {
      "text/plain": [
       "['anagrams',\n",
       " 'anscombe',\n",
       " 'attention',\n",
       " 'brain_networks',\n",
       " 'car_crashes',\n",
       " 'diamonds',\n",
       " 'dots',\n",
       " 'dowjones',\n",
       " 'exercise',\n",
       " 'flights',\n",
       " 'fmri',\n",
       " 'geyser',\n",
       " 'glue',\n",
       " 'healthexp',\n",
       " 'iris',\n",
       " 'mpg',\n",
       " 'penguins',\n",
       " 'planets',\n",
       " 'seaice',\n",
       " 'taxis',\n",
       " 'tips',\n",
       " 'titanic']"
      ]
     },
     "execution_count": 20,
     "metadata": {},
     "output_type": "execute_result"
    }
   ],
   "source": [
    "import seaborn as s\n",
    "s.get_dataset_names()"
   ]
  },
  {
   "cell_type": "code",
   "execution_count": 24,
   "metadata": {},
   "outputs": [
    {
     "data": {
      "text/html": [
       "<div>\n",
       "<style scoped>\n",
       "    .dataframe tbody tr th:only-of-type {\n",
       "        vertical-align: middle;\n",
       "    }\n",
       "\n",
       "    .dataframe tbody tr th {\n",
       "        vertical-align: top;\n",
       "    }\n",
       "\n",
       "    .dataframe thead th {\n",
       "        text-align: right;\n",
       "    }\n",
       "</style>\n",
       "<table border=\"1\" class=\"dataframe\">\n",
       "  <thead>\n",
       "    <tr style=\"text-align: right;\">\n",
       "      <th></th>\n",
       "      <th>year</th>\n",
       "      <th>month</th>\n",
       "      <th>passengers</th>\n",
       "    </tr>\n",
       "  </thead>\n",
       "  <tbody>\n",
       "    <tr>\n",
       "      <th>0</th>\n",
       "      <td>1949</td>\n",
       "      <td>Jan</td>\n",
       "      <td>112</td>\n",
       "    </tr>\n",
       "    <tr>\n",
       "      <th>1</th>\n",
       "      <td>1949</td>\n",
       "      <td>Feb</td>\n",
       "      <td>118</td>\n",
       "    </tr>\n",
       "    <tr>\n",
       "      <th>2</th>\n",
       "      <td>1949</td>\n",
       "      <td>Mar</td>\n",
       "      <td>132</td>\n",
       "    </tr>\n",
       "    <tr>\n",
       "      <th>3</th>\n",
       "      <td>1949</td>\n",
       "      <td>Apr</td>\n",
       "      <td>129</td>\n",
       "    </tr>\n",
       "    <tr>\n",
       "      <th>4</th>\n",
       "      <td>1949</td>\n",
       "      <td>May</td>\n",
       "      <td>121</td>\n",
       "    </tr>\n",
       "  </tbody>\n",
       "</table>\n",
       "</div>"
      ],
      "text/plain": [
       "   year month  passengers\n",
       "0  1949   Jan         112\n",
       "1  1949   Feb         118\n",
       "2  1949   Mar         132\n",
       "3  1949   Apr         129\n",
       "4  1949   May         121"
      ]
     },
     "execution_count": 24,
     "metadata": {},
     "output_type": "execute_result"
    }
   ],
   "source": [
    "s.load_dataset('flights').head()"
   ]
  },
  {
   "cell_type": "code",
   "execution_count": 27,
   "metadata": {},
   "outputs": [
    {
     "data": {
      "text/plain": [
       "<matplotlib.collections.PathCollection at 0x1b30a5d8ce0>"
      ]
     },
     "execution_count": 27,
     "metadata": {},
     "output_type": "execute_result"
    },
    {
     "data": {
      "image/png": "[encoded data removed]",
      "text/plain": [
       "<Figure size 640x480 with 1 Axes>"
      ]
     },
     "metadata": {},
     "output_type": "display_data"
    }
   ],
   "source": [
    "flight_data = s.load_dataset('flights')\n",
    "plt.scatter(flight_data['year'], flight_data['passengers'])"
   ]
  },
  {
   "cell_type": "markdown",
   "metadata": {},
   "source": [
    "### Exercise 2.6: Distribution Plot"
   ]
  },
  {
   "cell_type": "code",
   "execution_count": 29,
   "metadata": {},
   "outputs": [
    {
     "data": {
      "text/html": [
       "<div>\n",
       "<style scoped>\n",
       "    .dataframe tbody tr th:only-of-type {\n",
       "        vertical-align: middle;\n",
       "    }\n",
       "\n",
       "    .dataframe tbody tr th {\n",
       "        vertical-align: top;\n",
       "    }\n",
       "\n",
       "    .dataframe thead th {\n",
       "        text-align: right;\n",
       "    }\n",
       "</style>\n",
       "<table border=\"1\" class=\"dataframe\">\n",
       "  <thead>\n",
       "    <tr style=\"text-align: right;\">\n",
       "      <th></th>\n",
       "      <th>mpg</th>\n",
       "      <th>cylinders</th>\n",
       "      <th>displacement</th>\n",
       "      <th>horsepower</th>\n",
       "      <th>weight</th>\n",
       "      <th>acceleration</th>\n",
       "      <th>model_year</th>\n",
       "      <th>origin</th>\n",
       "      <th>name</th>\n",
       "    </tr>\n",
       "  </thead>\n",
       "  <tbody>\n",
       "    <tr>\n",
       "      <th>0</th>\n",
       "      <td>18.0</td>\n",
       "      <td>8</td>\n",
       "      <td>307.0</td>\n",
       "      <td>130.0</td>\n",
       "      <td>3504</td>\n",
       "      <td>12.0</td>\n",
       "      <td>70</td>\n",
       "      <td>usa</td>\n",
       "      <td>chevrolet chevelle malibu</td>\n",
       "    </tr>\n",
       "    <tr>\n",
       "      <th>1</th>\n",
       "      <td>15.0</td>\n",
       "      <td>8</td>\n",
       "      <td>350.0</td>\n",
       "      <td>165.0</td>\n",
       "      <td>3693</td>\n",
       "      <td>11.5</td>\n",
       "      <td>70</td>\n",
       "      <td>usa</td>\n",
       "      <td>buick skylark 320</td>\n",
       "    </tr>\n",
       "    <tr>\n",
       "      <th>2</th>\n",
       "      <td>18.0</td>\n",
       "      <td>8</td>\n",
       "      <td>318.0</td>\n",
       "      <td>150.0</td>\n",
       "      <td>3436</td>\n",
       "      <td>11.0</td>\n",
       "      <td>70</td>\n",
       "      <td>usa</td>\n",
       "      <td>plymouth satellite</td>\n",
       "    </tr>\n",
       "    <tr>\n",
       "      <th>3</th>\n",
       "      <td>16.0</td>\n",
       "      <td>8</td>\n",
       "      <td>304.0</td>\n",
       "      <td>150.0</td>\n",
       "      <td>3433</td>\n",
       "      <td>12.0</td>\n",
       "      <td>70</td>\n",
       "      <td>usa</td>\n",
       "      <td>amc rebel sst</td>\n",
       "    </tr>\n",
       "    <tr>\n",
       "      <th>4</th>\n",
       "      <td>17.0</td>\n",
       "      <td>8</td>\n",
       "      <td>302.0</td>\n",
       "      <td>140.0</td>\n",
       "      <td>3449</td>\n",
       "      <td>10.5</td>\n",
       "      <td>70</td>\n",
       "      <td>usa</td>\n",
       "      <td>ford torino</td>\n",
       "    </tr>\n",
       "  </tbody>\n",
       "</table>\n",
       "</div>"
      ],
      "text/plain": [
       "    mpg  cylinders  displacement  horsepower  weight  acceleration  \\\n",
       "0  18.0          8         307.0       130.0    3504          12.0   \n",
       "1  15.0          8         350.0       165.0    3693          11.5   \n",
       "2  18.0          8         318.0       150.0    3436          11.0   \n",
       "3  16.0          8         304.0       150.0    3433          12.0   \n",
       "4  17.0          8         302.0       140.0    3449          10.5   \n",
       "\n",
       "   model_year origin                       name  \n",
       "0          70    usa  chevrolet chevelle malibu  \n",
       "1          70    usa          buick skylark 320  \n",
       "2          70    usa         plymouth satellite  \n",
       "3          70    usa              amc rebel sst  \n",
       "4          70    usa                ford torino  "
      ]
     },
     "execution_count": 29,
     "metadata": {},
     "output_type": "execute_result"
    }
   ],
   "source": [
    "mpg = s.load_dataset('mpg')\n",
    "mpg.head()"
   ]
  },
  {
   "cell_type": "code",
   "execution_count": 39,
   "metadata": {},
   "outputs": [
    {
     "name": "stderr",
     "output_type": "stream",
     "text": [
      "C:\\Users\\Brady\\AppData\\Local\\Temp\\ipykernel_10176\\981862617.py:5: UserWarning: \n",
      "\n",
      "`distplot` is a deprecated function and will be removed in seaborn v0.14.0.\n",
      "\n",
      "Please adapt your code to use either `displot` (a figure-level function with\n",
      "similar flexibility) or `kdeplot` (an axes-level function for kernel density plots).\n",
      "\n",
      "For a guide to updating your code to use the new functions, please see\n",
      "https://gist.github.com/mwaskom/de44147ed2974457ad6372750bbe5751\n",
      "\n",
      "  s.distplot(subset['mpg'], hist = False, kde=True, kde_kws={'linewidth':3}, label = c)\n",
      "C:\\Users\\Brady\\AppData\\Local\\Temp\\ipykernel_10176\\981862617.py:5: UserWarning: \n",
      "\n",
      "`distplot` is a deprecated function and will be removed in seaborn v0.14.0.\n",
      "\n",
      "Please adapt your code to use either `displot` (a figure-level function with\n",
      "similar flexibility) or `kdeplot` (an axes-level function for kernel density plots).\n",
      "\n",
      "For a guide to updating your code to use the new functions, please see\n",
      "https://gist.github.com/mwaskom/de44147ed2974457ad6372750bbe5751\n",
      "\n",
      "  s.distplot(subset['mpg'], hist = False, kde=True, kde_kws={'linewidth':3}, label = c)\n",
      "C:\\Users\\Brady\\AppData\\Local\\Temp\\ipykernel_10176\\981862617.py:5: UserWarning: \n",
      "\n",
      "`distplot` is a deprecated function and will be removed in seaborn v0.14.0.\n",
      "\n",
      "Please adapt your code to use either `displot` (a figure-level function with\n",
      "similar flexibility) or `kdeplot` (an axes-level function for kernel density plots).\n",
      "\n",
      "For a guide to updating your code to use the new functions, please see\n",
      "https://gist.github.com/mwaskom/de44147ed2974457ad6372750bbe5751\n",
      "\n",
      "  s.distplot(subset['mpg'], hist = False, kde=True, kde_kws={'linewidth':3}, label = c)\n",
      "C:\\Users\\Brady\\AppData\\Local\\Temp\\ipykernel_10176\\981862617.py:5: UserWarning: \n",
      "\n",
      "`distplot` is a deprecated function and will be removed in seaborn v0.14.0.\n",
      "\n",
      "Please adapt your code to use either `displot` (a figure-level function with\n",
      "similar flexibility) or `kdeplot` (an axes-level function for kernel density plots).\n",
      "\n",
      "For a guide to updating your code to use the new functions, please see\n",
      "https://gist.github.com/mwaskom/de44147ed2974457ad6372750bbe5751\n",
      "\n",
      "  s.distplot(subset['mpg'], hist = False, kde=True, kde_kws={'linewidth':3}, label = c)\n",
      "C:\\Users\\Brady\\AppData\\Local\\Temp\\ipykernel_10176\\981862617.py:5: UserWarning: \n",
      "\n",
      "`distplot` is a deprecated function and will be removed in seaborn v0.14.0.\n",
      "\n",
      "Please adapt your code to use either `displot` (a figure-level function with\n",
      "similar flexibility) or `kdeplot` (an axes-level function for kernel density plots).\n",
      "\n",
      "For a guide to updating your code to use the new functions, please see\n",
      "https://gist.github.com/mwaskom/de44147ed2974457ad6372750bbe5751\n",
      "\n",
      "  s.distplot(subset['mpg'], hist = False, kde=True, kde_kws={'linewidth':3}, label = c)\n"
     ]
    },
    {
     "data": {
      "image/png": "[encoded data removed]",
      "text/plain": [
       "<Figure size 640x480 with 1 Axes>"
      ]
     },
     "metadata": {},
     "output_type": "display_data"
    }
   ],
   "source": [
    "cylinders = [4, 8, 6, 3, 5]\n",
    "for c in cylinders:\n",
    "    subset = mpg[mpg['cylinders'] == c]\n",
    "    # Use line_kws to set the linewidth for the KDE plot\n",
    "    s.distplot(subset['mpg'], hist = False, kde=True, kde_kws={'linewidth':3}, label = c)\n",
    "\n",
    "plt.xlabel('Miles per Gallon (MPG)')\n",
    "plt.legend(cylinders)\n",
    "plt.show()"
   ]
  },
  {
   "cell_type": "markdown",
   "metadata": {},
   "source": [
    "### Exercise 2.7: Box Plot"
   ]
  },
  {
   "cell_type": "code",
   "execution_count": 40,
   "metadata": {},
   "outputs": [
    {
     "data": {
      "text/html": [
       "<div>\n",
       "<style scoped>\n",
       "    .dataframe tbody tr th:only-of-type {\n",
       "        vertical-align: middle;\n",
       "    }\n",
       "\n",
       "    .dataframe tbody tr th {\n",
       "        vertical-align: top;\n",
       "    }\n",
       "\n",
       "    .dataframe thead th {\n",
       "        text-align: right;\n",
       "    }\n",
       "</style>\n",
       "<table border=\"1\" class=\"dataframe\">\n",
       "  <thead>\n",
       "    <tr style=\"text-align: right;\">\n",
       "      <th></th>\n",
       "      <th>mpg</th>\n",
       "      <th>cylinders</th>\n",
       "      <th>displacement</th>\n",
       "      <th>horsepower</th>\n",
       "      <th>weight</th>\n",
       "      <th>acceleration</th>\n",
       "      <th>model_year</th>\n",
       "      <th>origin</th>\n",
       "      <th>name</th>\n",
       "    </tr>\n",
       "  </thead>\n",
       "  <tbody>\n",
       "    <tr>\n",
       "      <th>0</th>\n",
       "      <td>18.0</td>\n",
       "      <td>8</td>\n",
       "      <td>307.0</td>\n",
       "      <td>130.0</td>\n",
       "      <td>3504</td>\n",
       "      <td>12.0</td>\n",
       "      <td>70</td>\n",
       "      <td>usa</td>\n",
       "      <td>chevrolet chevelle malibu</td>\n",
       "    </tr>\n",
       "    <tr>\n",
       "      <th>1</th>\n",
       "      <td>15.0</td>\n",
       "      <td>8</td>\n",
       "      <td>350.0</td>\n",
       "      <td>165.0</td>\n",
       "      <td>3693</td>\n",
       "      <td>11.5</td>\n",
       "      <td>70</td>\n",
       "      <td>usa</td>\n",
       "      <td>buick skylark 320</td>\n",
       "    </tr>\n",
       "    <tr>\n",
       "      <th>2</th>\n",
       "      <td>18.0</td>\n",
       "      <td>8</td>\n",
       "      <td>318.0</td>\n",
       "      <td>150.0</td>\n",
       "      <td>3436</td>\n",
       "      <td>11.0</td>\n",
       "      <td>70</td>\n",
       "      <td>usa</td>\n",
       "      <td>plymouth satellite</td>\n",
       "    </tr>\n",
       "    <tr>\n",
       "      <th>3</th>\n",
       "      <td>16.0</td>\n",
       "      <td>8</td>\n",
       "      <td>304.0</td>\n",
       "      <td>150.0</td>\n",
       "      <td>3433</td>\n",
       "      <td>12.0</td>\n",
       "      <td>70</td>\n",
       "      <td>usa</td>\n",
       "      <td>amc rebel sst</td>\n",
       "    </tr>\n",
       "    <tr>\n",
       "      <th>4</th>\n",
       "      <td>17.0</td>\n",
       "      <td>8</td>\n",
       "      <td>302.0</td>\n",
       "      <td>140.0</td>\n",
       "      <td>3449</td>\n",
       "      <td>10.5</td>\n",
       "      <td>70</td>\n",
       "      <td>usa</td>\n",
       "      <td>ford torino</td>\n",
       "    </tr>\n",
       "  </tbody>\n",
       "</table>\n",
       "</div>"
      ],
      "text/plain": [
       "    mpg  cylinders  displacement  horsepower  weight  acceleration  \\\n",
       "0  18.0          8         307.0       130.0    3504          12.0   \n",
       "1  15.0          8         350.0       165.0    3693          11.5   \n",
       "2  18.0          8         318.0       150.0    3436          11.0   \n",
       "3  16.0          8         304.0       150.0    3433          12.0   \n",
       "4  17.0          8         302.0       140.0    3449          10.5   \n",
       "\n",
       "   model_year origin                       name  \n",
       "0          70    usa  chevrolet chevelle malibu  \n",
       "1          70    usa          buick skylark 320  \n",
       "2          70    usa         plymouth satellite  \n",
       "3          70    usa              amc rebel sst  \n",
       "4          70    usa                ford torino  "
      ]
     },
     "execution_count": 40,
     "metadata": {},
     "output_type": "execute_result"
    }
   ],
   "source": [
    "mpg.head()"
   ]
  },
  {
   "cell_type": "code",
   "execution_count": 43,
   "metadata": {},
   "outputs": [
    {
     "data": {
      "text/plain": [
       "Text(0, 0.5, 'Horse Power')"
      ]
     },
     "execution_count": 43,
     "metadata": {},
     "output_type": "execute_result"
    },
    {
     "data": {
      "image/png": "[encoded data removed]",
      "text/plain": [
       "<Figure size 640x480 with 1 Axes>"
      ]
     },
     "metadata": {},
     "output_type": "display_data"
    }
   ],
   "source": [
    "s.boxplot(x='origin', y='horsepower', data = mpg)\n",
    "plt.xlabel('Country of Origin')\n",
    "plt.ylabel('Horse Power')"
   ]
  },
  {
   "cell_type": "code",
   "execution_count": 44,
   "metadata": {},
   "outputs": [
    {
     "data": {
      "text/plain": [
       "Text(0, 0.5, 'Miles per Gallon')"
      ]
     },
     "execution_count": 44,
     "metadata": {},
     "output_type": "execute_result"
    },
    {
     "data": {
      "image/png": "[encoded data removed]",
      "text/plain": [
       "<Figure size 640x480 with 1 Axes>"
      ]
     },
     "metadata": {},
     "output_type": "display_data"
    }
   ],
   "source": [
    "s.boxplot(x='origin', y='mpg', data = mpg)\n",
    "plt.xlabel('Country of Origin')\n",
    "plt.ylabel('Miles per Gallon')"
   ]
  }
 ],
 "metadata": {
  "kernelspec": {
   "display_name": "Python 3",
   "language": "python",
   "name": "python3"
  },
  "language_info": {
   "codemirror_mode": {
    "name": "ipython",
    "version": 3
   },
   "file_extension": ".py",
   "mimetype": "text/x-python",
   "name": "python",
   "nbconvert_exporter": "python",
   "pygments_lexer": "ipython3",
   "version": "3.12.2"
  }
 },
 "nbformat": 4,
 "nbformat_minor": 2
}
